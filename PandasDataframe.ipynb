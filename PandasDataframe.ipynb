{
 "cells": [
  {
   "cell_type": "code",
   "execution_count": 1,
   "id": "28ed661c",
   "metadata": {},
   "outputs": [],
   "source": [
    "#Serilerin yan yana gelmesiyle oluşan bir tablo gibi düşünülebilir"
   ]
  },
  {
   "cell_type": "code",
   "execution_count": 2,
   "id": "4f95382e",
   "metadata": {},
   "outputs": [],
   "source": [
    "import numpy as np\n",
    "import pandas as pd"
   ]
  },
  {
   "cell_type": "code",
   "execution_count": 9,
   "id": "46dbf9ee",
   "metadata": {},
   "outputs": [],
   "source": [
    "data=np.random.randn(4,5)"
   ]
  },
  {
   "cell_type": "code",
   "execution_count": 10,
   "id": "71f28bd4",
   "metadata": {},
   "outputs": [
    {
     "data": {
      "text/plain": [
       "array([[ 2.16828514e-01,  1.11643409e+00, -2.41961201e-01,\n",
       "         1.74004893e+00,  2.03418833e-03],\n",
       "       [ 1.91857478e+00, -2.24225854e-02,  1.50473104e+00,\n",
       "        -4.02798489e-01,  4.29149616e-01],\n",
       "       [-1.62711305e+00, -2.59733779e-01, -9.99341905e-01,\n",
       "        -5.41397537e-01, -1.10760358e+00],\n",
       "       [ 2.17116302e+00,  1.13094555e+00,  1.57231077e+00,\n",
       "         5.59314634e-01, -9.31527428e-01]])"
      ]
     },
     "execution_count": 10,
     "metadata": {},
     "output_type": "execute_result"
    }
   ],
   "source": [
    "data"
   ]
  },
  {
   "cell_type": "code",
   "execution_count": 11,
   "id": "c4bab121",
   "metadata": {},
   "outputs": [],
   "source": [
    "dataFrame=pd.DataFrame(data)"
   ]
  },
  {
   "cell_type": "code",
   "execution_count": 12,
   "id": "1016e0a5",
   "metadata": {},
   "outputs": [
    {
     "data": {
      "text/html": [
       "<div>\n",
       "<style scoped>\n",
       "    .dataframe tbody tr th:only-of-type {\n",
       "        vertical-align: middle;\n",
       "    }\n",
       "\n",
       "    .dataframe tbody tr th {\n",
       "        vertical-align: top;\n",
       "    }\n",
       "\n",
       "    .dataframe thead th {\n",
       "        text-align: right;\n",
       "    }\n",
       "</style>\n",
       "<table border=\"1\" class=\"dataframe\">\n",
       "  <thead>\n",
       "    <tr style=\"text-align: right;\">\n",
       "      <th></th>\n",
       "      <th>0</th>\n",
       "      <th>1</th>\n",
       "      <th>2</th>\n",
       "      <th>3</th>\n",
       "      <th>4</th>\n",
       "    </tr>\n",
       "  </thead>\n",
       "  <tbody>\n",
       "    <tr>\n",
       "      <th>0</th>\n",
       "      <td>0.216829</td>\n",
       "      <td>1.116434</td>\n",
       "      <td>-0.241961</td>\n",
       "      <td>1.740049</td>\n",
       "      <td>0.002034</td>\n",
       "    </tr>\n",
       "    <tr>\n",
       "      <th>1</th>\n",
       "      <td>1.918575</td>\n",
       "      <td>-0.022423</td>\n",
       "      <td>1.504731</td>\n",
       "      <td>-0.402798</td>\n",
       "      <td>0.429150</td>\n",
       "    </tr>\n",
       "    <tr>\n",
       "      <th>2</th>\n",
       "      <td>-1.627113</td>\n",
       "      <td>-0.259734</td>\n",
       "      <td>-0.999342</td>\n",
       "      <td>-0.541398</td>\n",
       "      <td>-1.107604</td>\n",
       "    </tr>\n",
       "    <tr>\n",
       "      <th>3</th>\n",
       "      <td>2.171163</td>\n",
       "      <td>1.130946</td>\n",
       "      <td>1.572311</td>\n",
       "      <td>0.559315</td>\n",
       "      <td>-0.931527</td>\n",
       "    </tr>\n",
       "  </tbody>\n",
       "</table>\n",
       "</div>"
      ],
      "text/plain": [
       "          0         1         2         3         4\n",
       "0  0.216829  1.116434 -0.241961  1.740049  0.002034\n",
       "1  1.918575 -0.022423  1.504731 -0.402798  0.429150\n",
       "2 -1.627113 -0.259734 -0.999342 -0.541398 -1.107604\n",
       "3  2.171163  1.130946  1.572311  0.559315 -0.931527"
      ]
     },
     "execution_count": 12,
     "metadata": {},
     "output_type": "execute_result"
    }
   ],
   "source": [
    "dataFrame"
   ]
  },
  {
   "cell_type": "code",
   "execution_count": 13,
   "id": "98f7a6ad",
   "metadata": {},
   "outputs": [],
   "source": [
    "# Mesela dataFrame[0] dersek bize 0. kolonu getirir."
   ]
  },
  {
   "cell_type": "code",
   "execution_count": 14,
   "id": "f8c3d6ff",
   "metadata": {},
   "outputs": [],
   "source": [
    "yeniDataFrame=pd.DataFrame(data,index=[\"Ali\",\"Ahmet\",\"Ayşe\",\"Fatma\"],columns=[\"Vize\",\"Final\",\"Quiz1\",\"Quiz2\",\"Ortalama\"])"
   ]
  },
  {
   "cell_type": "code",
   "execution_count": 15,
   "id": "e6dcff56",
   "metadata": {},
   "outputs": [
    {
     "data": {
      "text/html": [
       "<div>\n",
       "<style scoped>\n",
       "    .dataframe tbody tr th:only-of-type {\n",
       "        vertical-align: middle;\n",
       "    }\n",
       "\n",
       "    .dataframe tbody tr th {\n",
       "        vertical-align: top;\n",
       "    }\n",
       "\n",
       "    .dataframe thead th {\n",
       "        text-align: right;\n",
       "    }\n",
       "</style>\n",
       "<table border=\"1\" class=\"dataframe\">\n",
       "  <thead>\n",
       "    <tr style=\"text-align: right;\">\n",
       "      <th></th>\n",
       "      <th>Vize</th>\n",
       "      <th>Final</th>\n",
       "      <th>Quiz1</th>\n",
       "      <th>Quiz2</th>\n",
       "      <th>Ortalama</th>\n",
       "    </tr>\n",
       "  </thead>\n",
       "  <tbody>\n",
       "    <tr>\n",
       "      <th>Ali</th>\n",
       "      <td>0.216829</td>\n",
       "      <td>1.116434</td>\n",
       "      <td>-0.241961</td>\n",
       "      <td>1.740049</td>\n",
       "      <td>0.002034</td>\n",
       "    </tr>\n",
       "    <tr>\n",
       "      <th>Ahmet</th>\n",
       "      <td>1.918575</td>\n",
       "      <td>-0.022423</td>\n",
       "      <td>1.504731</td>\n",
       "      <td>-0.402798</td>\n",
       "      <td>0.429150</td>\n",
       "    </tr>\n",
       "    <tr>\n",
       "      <th>Ayşe</th>\n",
       "      <td>-1.627113</td>\n",
       "      <td>-0.259734</td>\n",
       "      <td>-0.999342</td>\n",
       "      <td>-0.541398</td>\n",
       "      <td>-1.107604</td>\n",
       "    </tr>\n",
       "    <tr>\n",
       "      <th>Fatma</th>\n",
       "      <td>2.171163</td>\n",
       "      <td>1.130946</td>\n",
       "      <td>1.572311</td>\n",
       "      <td>0.559315</td>\n",
       "      <td>-0.931527</td>\n",
       "    </tr>\n",
       "  </tbody>\n",
       "</table>\n",
       "</div>"
      ],
      "text/plain": [
       "           Vize     Final     Quiz1     Quiz2  Ortalama\n",
       "Ali    0.216829  1.116434 -0.241961  1.740049  0.002034\n",
       "Ahmet  1.918575 -0.022423  1.504731 -0.402798  0.429150\n",
       "Ayşe  -1.627113 -0.259734 -0.999342 -0.541398 -1.107604\n",
       "Fatma  2.171163  1.130946  1.572311  0.559315 -0.931527"
      ]
     },
     "execution_count": 15,
     "metadata": {},
     "output_type": "execute_result"
    }
   ],
   "source": [
    "yeniDataFrame"
   ]
  },
  {
   "cell_type": "code",
   "execution_count": 16,
   "id": "05c3bd41",
   "metadata": {},
   "outputs": [
    {
     "data": {
      "text/plain": [
       "Ali      0.216829\n",
       "Ahmet    1.918575\n",
       "Ayşe    -1.627113\n",
       "Fatma    2.171163\n",
       "Name: Vize, dtype: float64"
      ]
     },
     "execution_count": 16,
     "metadata": {},
     "output_type": "execute_result"
    }
   ],
   "source": [
    "yeniDataFrame[\"Vize\"]"
   ]
  },
  {
   "cell_type": "code",
   "execution_count": 17,
   "id": "3617ce54",
   "metadata": {},
   "outputs": [
    {
     "data": {
      "text/plain": [
       "Ali      1.740049\n",
       "Ahmet   -0.402798\n",
       "Ayşe    -0.541398\n",
       "Fatma    0.559315\n",
       "Name: Quiz2, dtype: float64"
      ]
     },
     "execution_count": 17,
     "metadata": {},
     "output_type": "execute_result"
    }
   ],
   "source": [
    "yeniDataFrame[\"Quiz2\"]"
   ]
  },
  {
   "cell_type": "code",
   "execution_count": 18,
   "id": "1b3baaf6",
   "metadata": {},
   "outputs": [
    {
     "data": {
      "text/html": [
       "<div>\n",
       "<style scoped>\n",
       "    .dataframe tbody tr th:only-of-type {\n",
       "        vertical-align: middle;\n",
       "    }\n",
       "\n",
       "    .dataframe tbody tr th {\n",
       "        vertical-align: top;\n",
       "    }\n",
       "\n",
       "    .dataframe thead th {\n",
       "        text-align: right;\n",
       "    }\n",
       "</style>\n",
       "<table border=\"1\" class=\"dataframe\">\n",
       "  <thead>\n",
       "    <tr style=\"text-align: right;\">\n",
       "      <th></th>\n",
       "      <th>Quiz1</th>\n",
       "      <th>Quiz2</th>\n",
       "      <th>Ortalama</th>\n",
       "    </tr>\n",
       "  </thead>\n",
       "  <tbody>\n",
       "    <tr>\n",
       "      <th>Ali</th>\n",
       "      <td>-0.241961</td>\n",
       "      <td>1.740049</td>\n",
       "      <td>0.002034</td>\n",
       "    </tr>\n",
       "    <tr>\n",
       "      <th>Ahmet</th>\n",
       "      <td>1.504731</td>\n",
       "      <td>-0.402798</td>\n",
       "      <td>0.429150</td>\n",
       "    </tr>\n",
       "    <tr>\n",
       "      <th>Ayşe</th>\n",
       "      <td>-0.999342</td>\n",
       "      <td>-0.541398</td>\n",
       "      <td>-1.107604</td>\n",
       "    </tr>\n",
       "    <tr>\n",
       "      <th>Fatma</th>\n",
       "      <td>1.572311</td>\n",
       "      <td>0.559315</td>\n",
       "      <td>-0.931527</td>\n",
       "    </tr>\n",
       "  </tbody>\n",
       "</table>\n",
       "</div>"
      ],
      "text/plain": [
       "          Quiz1     Quiz2  Ortalama\n",
       "Ali   -0.241961  1.740049  0.002034\n",
       "Ahmet  1.504731 -0.402798  0.429150\n",
       "Ayşe  -0.999342 -0.541398 -1.107604\n",
       "Fatma  1.572311  0.559315 -0.931527"
      ]
     },
     "execution_count": 18,
     "metadata": {},
     "output_type": "execute_result"
    }
   ],
   "source": [
    "yeniDataFrame[[\"Quiz1\",\"Quiz2\",\"Ortalama\"]]"
   ]
  },
  {
   "cell_type": "code",
   "execution_count": 19,
   "id": "9a0544e9",
   "metadata": {},
   "outputs": [
    {
     "data": {
      "text/plain": [
       "Vize        0.216829\n",
       "Final       1.116434\n",
       "Quiz1      -0.241961\n",
       "Quiz2       1.740049\n",
       "Ortalama    0.002034\n",
       "Name: Ali, dtype: float64"
      ]
     },
     "execution_count": 19,
     "metadata": {},
     "output_type": "execute_result"
    }
   ],
   "source": [
    "#Row seçmek istersek \"loc(locate)\" kullanmamız gerekli.\n",
    "#\"iloc\" ile de indekse göre çağırabiliriz.\n",
    "\n",
    "yeniDataFrame.loc[\"Ali\"]"
   ]
  },
  {
   "cell_type": "code",
   "execution_count": 21,
   "id": "63fbe593",
   "metadata": {},
   "outputs": [
    {
     "data": {
      "text/plain": [
       "Vize        0.216829\n",
       "Final       1.116434\n",
       "Quiz1      -0.241961\n",
       "Quiz2       1.740049\n",
       "Ortalama    0.002034\n",
       "Name: Ali, dtype: float64"
      ]
     },
     "execution_count": 21,
     "metadata": {},
     "output_type": "execute_result"
    }
   ],
   "source": [
    "yeniDataFrame.loc[\"Ali\"]"
   ]
  },
  {
   "cell_type": "code",
   "execution_count": 22,
   "id": "efca1f16",
   "metadata": {},
   "outputs": [
    {
     "data": {
      "text/plain": [
       "Vize        0.216829\n",
       "Final       1.116434\n",
       "Quiz1      -0.241961\n",
       "Quiz2       1.740049\n",
       "Ortalama    0.002034\n",
       "Name: Ali, dtype: float64"
      ]
     },
     "execution_count": 22,
     "metadata": {},
     "output_type": "execute_result"
    }
   ],
   "source": [
    "yeniDataFrame.iloc[0]"
   ]
  },
  {
   "cell_type": "code",
   "execution_count": 23,
   "id": "6387de6c",
   "metadata": {},
   "outputs": [],
   "source": [
    "# DataFrame'e kolon eklemek ve silmek!\n",
    "\n",
    "yeniDataFrame[\"artıPuan\"]=yeniDataFrame[\"Quiz1\"]+yeniDataFrame[\"Quiz1\"]\n",
    "\n"
   ]
  },
  {
   "cell_type": "code",
   "execution_count": 24,
   "id": "f4d3dde3",
   "metadata": {},
   "outputs": [
    {
     "data": {
      "text/html": [
       "<div>\n",
       "<style scoped>\n",
       "    .dataframe tbody tr th:only-of-type {\n",
       "        vertical-align: middle;\n",
       "    }\n",
       "\n",
       "    .dataframe tbody tr th {\n",
       "        vertical-align: top;\n",
       "    }\n",
       "\n",
       "    .dataframe thead th {\n",
       "        text-align: right;\n",
       "    }\n",
       "</style>\n",
       "<table border=\"1\" class=\"dataframe\">\n",
       "  <thead>\n",
       "    <tr style=\"text-align: right;\">\n",
       "      <th></th>\n",
       "      <th>Vize</th>\n",
       "      <th>Final</th>\n",
       "      <th>Quiz1</th>\n",
       "      <th>Quiz2</th>\n",
       "      <th>Ortalama</th>\n",
       "      <th>artıPuan</th>\n",
       "    </tr>\n",
       "  </thead>\n",
       "  <tbody>\n",
       "    <tr>\n",
       "      <th>Ali</th>\n",
       "      <td>0.216829</td>\n",
       "      <td>1.116434</td>\n",
       "      <td>-0.241961</td>\n",
       "      <td>1.740049</td>\n",
       "      <td>0.002034</td>\n",
       "      <td>-0.483922</td>\n",
       "    </tr>\n",
       "    <tr>\n",
       "      <th>Ahmet</th>\n",
       "      <td>1.918575</td>\n",
       "      <td>-0.022423</td>\n",
       "      <td>1.504731</td>\n",
       "      <td>-0.402798</td>\n",
       "      <td>0.429150</td>\n",
       "      <td>3.009462</td>\n",
       "    </tr>\n",
       "    <tr>\n",
       "      <th>Ayşe</th>\n",
       "      <td>-1.627113</td>\n",
       "      <td>-0.259734</td>\n",
       "      <td>-0.999342</td>\n",
       "      <td>-0.541398</td>\n",
       "      <td>-1.107604</td>\n",
       "      <td>-1.998684</td>\n",
       "    </tr>\n",
       "    <tr>\n",
       "      <th>Fatma</th>\n",
       "      <td>2.171163</td>\n",
       "      <td>1.130946</td>\n",
       "      <td>1.572311</td>\n",
       "      <td>0.559315</td>\n",
       "      <td>-0.931527</td>\n",
       "      <td>3.144622</td>\n",
       "    </tr>\n",
       "  </tbody>\n",
       "</table>\n",
       "</div>"
      ],
      "text/plain": [
       "           Vize     Final     Quiz1     Quiz2  Ortalama  artıPuan\n",
       "Ali    0.216829  1.116434 -0.241961  1.740049  0.002034 -0.483922\n",
       "Ahmet  1.918575 -0.022423  1.504731 -0.402798  0.429150  3.009462\n",
       "Ayşe  -1.627113 -0.259734 -0.999342 -0.541398 -1.107604 -1.998684\n",
       "Fatma  2.171163  1.130946  1.572311  0.559315 -0.931527  3.144622"
      ]
     },
     "execution_count": 24,
     "metadata": {},
     "output_type": "execute_result"
    }
   ],
   "source": [
    "yeniDataFrame"
   ]
  },
  {
   "cell_type": "code",
   "execution_count": 26,
   "id": "f5394bcd",
   "metadata": {},
   "outputs": [
    {
     "data": {
      "text/html": [
       "<div>\n",
       "<style scoped>\n",
       "    .dataframe tbody tr th:only-of-type {\n",
       "        vertical-align: middle;\n",
       "    }\n",
       "\n",
       "    .dataframe tbody tr th {\n",
       "        vertical-align: top;\n",
       "    }\n",
       "\n",
       "    .dataframe thead th {\n",
       "        text-align: right;\n",
       "    }\n",
       "</style>\n",
       "<table border=\"1\" class=\"dataframe\">\n",
       "  <thead>\n",
       "    <tr style=\"text-align: right;\">\n",
       "      <th></th>\n",
       "      <th>Vize</th>\n",
       "      <th>Final</th>\n",
       "      <th>Quiz1</th>\n",
       "      <th>Quiz2</th>\n",
       "      <th>Ortalama</th>\n",
       "    </tr>\n",
       "  </thead>\n",
       "  <tbody>\n",
       "    <tr>\n",
       "      <th>Ali</th>\n",
       "      <td>0.216829</td>\n",
       "      <td>1.116434</td>\n",
       "      <td>-0.241961</td>\n",
       "      <td>1.740049</td>\n",
       "      <td>0.002034</td>\n",
       "    </tr>\n",
       "    <tr>\n",
       "      <th>Ahmet</th>\n",
       "      <td>1.918575</td>\n",
       "      <td>-0.022423</td>\n",
       "      <td>1.504731</td>\n",
       "      <td>-0.402798</td>\n",
       "      <td>0.429150</td>\n",
       "    </tr>\n",
       "    <tr>\n",
       "      <th>Ayşe</th>\n",
       "      <td>-1.627113</td>\n",
       "      <td>-0.259734</td>\n",
       "      <td>-0.999342</td>\n",
       "      <td>-0.541398</td>\n",
       "      <td>-1.107604</td>\n",
       "    </tr>\n",
       "    <tr>\n",
       "      <th>Fatma</th>\n",
       "      <td>2.171163</td>\n",
       "      <td>1.130946</td>\n",
       "      <td>1.572311</td>\n",
       "      <td>0.559315</td>\n",
       "      <td>-0.931527</td>\n",
       "    </tr>\n",
       "  </tbody>\n",
       "</table>\n",
       "</div>"
      ],
      "text/plain": [
       "           Vize     Final     Quiz1     Quiz2  Ortalama\n",
       "Ali    0.216829  1.116434 -0.241961  1.740049  0.002034\n",
       "Ahmet  1.918575 -0.022423  1.504731 -0.402798  0.429150\n",
       "Ayşe  -1.627113 -0.259734 -0.999342 -0.541398 -1.107604\n",
       "Fatma  2.171163  1.130946  1.572311  0.559315 -0.931527"
      ]
     },
     "execution_count": 26,
     "metadata": {},
     "output_type": "execute_result"
    }
   ],
   "source": [
    "#axis=1 burada kolonu temsil eder.axis=0 ise satırı.\n",
    "yeniDataFrame.drop(\"artıPuan\",axis=1)"
   ]
  },
  {
   "cell_type": "code",
   "execution_count": 27,
   "id": "a1585ca0",
   "metadata": {},
   "outputs": [
    {
     "data": {
      "text/html": [
       "<div>\n",
       "<style scoped>\n",
       "    .dataframe tbody tr th:only-of-type {\n",
       "        vertical-align: middle;\n",
       "    }\n",
       "\n",
       "    .dataframe tbody tr th {\n",
       "        vertical-align: top;\n",
       "    }\n",
       "\n",
       "    .dataframe thead th {\n",
       "        text-align: right;\n",
       "    }\n",
       "</style>\n",
       "<table border=\"1\" class=\"dataframe\">\n",
       "  <thead>\n",
       "    <tr style=\"text-align: right;\">\n",
       "      <th></th>\n",
       "      <th>Vize</th>\n",
       "      <th>Final</th>\n",
       "      <th>Quiz1</th>\n",
       "      <th>Quiz2</th>\n",
       "      <th>Ortalama</th>\n",
       "      <th>artıPuan</th>\n",
       "    </tr>\n",
       "  </thead>\n",
       "  <tbody>\n",
       "    <tr>\n",
       "      <th>Ahmet</th>\n",
       "      <td>1.918575</td>\n",
       "      <td>-0.022423</td>\n",
       "      <td>1.504731</td>\n",
       "      <td>-0.402798</td>\n",
       "      <td>0.429150</td>\n",
       "      <td>3.009462</td>\n",
       "    </tr>\n",
       "    <tr>\n",
       "      <th>Ayşe</th>\n",
       "      <td>-1.627113</td>\n",
       "      <td>-0.259734</td>\n",
       "      <td>-0.999342</td>\n",
       "      <td>-0.541398</td>\n",
       "      <td>-1.107604</td>\n",
       "      <td>-1.998684</td>\n",
       "    </tr>\n",
       "    <tr>\n",
       "      <th>Fatma</th>\n",
       "      <td>2.171163</td>\n",
       "      <td>1.130946</td>\n",
       "      <td>1.572311</td>\n",
       "      <td>0.559315</td>\n",
       "      <td>-0.931527</td>\n",
       "      <td>3.144622</td>\n",
       "    </tr>\n",
       "  </tbody>\n",
       "</table>\n",
       "</div>"
      ],
      "text/plain": [
       "           Vize     Final     Quiz1     Quiz2  Ortalama  artıPuan\n",
       "Ahmet  1.918575 -0.022423  1.504731 -0.402798  0.429150  3.009462\n",
       "Ayşe  -1.627113 -0.259734 -0.999342 -0.541398 -1.107604 -1.998684\n",
       "Fatma  2.171163  1.130946  1.572311  0.559315 -0.931527  3.144622"
      ]
     },
     "execution_count": 27,
     "metadata": {},
     "output_type": "execute_result"
    }
   ],
   "source": [
    "yeniDataFrame.drop(\"Ali\",axis=0)"
   ]
  },
  {
   "cell_type": "code",
   "execution_count": 23,
   "id": "1cb2a704",
   "metadata": {},
   "outputs": [
    {
     "data": {
      "text/html": [
       "<div>\n",
       "<style scoped>\n",
       "    .dataframe tbody tr th:only-of-type {\n",
       "        vertical-align: middle;\n",
       "    }\n",
       "\n",
       "    .dataframe tbody tr th {\n",
       "        vertical-align: top;\n",
       "    }\n",
       "\n",
       "    .dataframe thead th {\n",
       "        text-align: right;\n",
       "    }\n",
       "</style>\n",
       "<table border=\"1\" class=\"dataframe\">\n",
       "  <thead>\n",
       "    <tr style=\"text-align: right;\">\n",
       "      <th></th>\n",
       "      <th>Vize</th>\n",
       "      <th>Final</th>\n",
       "      <th>Quiz1</th>\n",
       "      <th>Quiz2</th>\n",
       "      <th>Ortalama</th>\n",
       "      <th>artıPuan</th>\n",
       "    </tr>\n",
       "  </thead>\n",
       "  <tbody>\n",
       "    <tr>\n",
       "      <th>Ali</th>\n",
       "      <td>-1.018766</td>\n",
       "      <td>-0.448982</td>\n",
       "      <td>-0.291755</td>\n",
       "      <td>-0.315464</td>\n",
       "      <td>1.408549</td>\n",
       "      <td>-0.583509</td>\n",
       "    </tr>\n",
       "    <tr>\n",
       "      <th>Ahmet</th>\n",
       "      <td>-0.588107</td>\n",
       "      <td>-0.163892</td>\n",
       "      <td>-1.201523</td>\n",
       "      <td>-0.272635</td>\n",
       "      <td>-2.419466</td>\n",
       "      <td>-2.403046</td>\n",
       "    </tr>\n",
       "    <tr>\n",
       "      <th>Ayşe</th>\n",
       "      <td>1.587335</td>\n",
       "      <td>-0.088957</td>\n",
       "      <td>-1.321133</td>\n",
       "      <td>1.905587</td>\n",
       "      <td>-0.266351</td>\n",
       "      <td>-2.642265</td>\n",
       "    </tr>\n",
       "    <tr>\n",
       "      <th>Fatma</th>\n",
       "      <td>0.950170</td>\n",
       "      <td>0.610520</td>\n",
       "      <td>-0.360557</td>\n",
       "      <td>1.669627</td>\n",
       "      <td>-0.792961</td>\n",
       "      <td>-0.721114</td>\n",
       "    </tr>\n",
       "  </tbody>\n",
       "</table>\n",
       "</div>"
      ],
      "text/plain": [
       "           Vize     Final     Quiz1     Quiz2  Ortalama  artıPuan\n",
       "Ali   -1.018766 -0.448982 -0.291755 -0.315464  1.408549 -0.583509\n",
       "Ahmet -0.588107 -0.163892 -1.201523 -0.272635 -2.419466 -2.403046\n",
       "Ayşe   1.587335 -0.088957 -1.321133  1.905587 -0.266351 -2.642265\n",
       "Fatma  0.950170  0.610520 -0.360557  1.669627 -0.792961 -0.721114"
      ]
     },
     "execution_count": 23,
     "metadata": {},
     "output_type": "execute_result"
    }
   ],
   "source": [
    "yeniDataFrame"
   ]
  },
  {
   "cell_type": "code",
   "execution_count": 28,
   "id": "8172694d",
   "metadata": {},
   "outputs": [],
   "source": [
    "#Burada kalıcı silinmedi bunun için \"inplace(yerinde anlamına gelir)\" kullanılmalı\n",
    "\n",
    "yeniDataFrame.drop(\"Ali\",axis=0,inplace=True)"
   ]
  },
  {
   "cell_type": "code",
   "execution_count": 29,
   "id": "68c2ca2e",
   "metadata": {},
   "outputs": [
    {
     "data": {
      "text/html": [
       "<div>\n",
       "<style scoped>\n",
       "    .dataframe tbody tr th:only-of-type {\n",
       "        vertical-align: middle;\n",
       "    }\n",
       "\n",
       "    .dataframe tbody tr th {\n",
       "        vertical-align: top;\n",
       "    }\n",
       "\n",
       "    .dataframe thead th {\n",
       "        text-align: right;\n",
       "    }\n",
       "</style>\n",
       "<table border=\"1\" class=\"dataframe\">\n",
       "  <thead>\n",
       "    <tr style=\"text-align: right;\">\n",
       "      <th></th>\n",
       "      <th>Vize</th>\n",
       "      <th>Final</th>\n",
       "      <th>Quiz1</th>\n",
       "      <th>Quiz2</th>\n",
       "      <th>Ortalama</th>\n",
       "      <th>artıPuan</th>\n",
       "    </tr>\n",
       "  </thead>\n",
       "  <tbody>\n",
       "    <tr>\n",
       "      <th>Ahmet</th>\n",
       "      <td>1.918575</td>\n",
       "      <td>-0.022423</td>\n",
       "      <td>1.504731</td>\n",
       "      <td>-0.402798</td>\n",
       "      <td>0.429150</td>\n",
       "      <td>3.009462</td>\n",
       "    </tr>\n",
       "    <tr>\n",
       "      <th>Ayşe</th>\n",
       "      <td>-1.627113</td>\n",
       "      <td>-0.259734</td>\n",
       "      <td>-0.999342</td>\n",
       "      <td>-0.541398</td>\n",
       "      <td>-1.107604</td>\n",
       "      <td>-1.998684</td>\n",
       "    </tr>\n",
       "    <tr>\n",
       "      <th>Fatma</th>\n",
       "      <td>2.171163</td>\n",
       "      <td>1.130946</td>\n",
       "      <td>1.572311</td>\n",
       "      <td>0.559315</td>\n",
       "      <td>-0.931527</td>\n",
       "      <td>3.144622</td>\n",
       "    </tr>\n",
       "  </tbody>\n",
       "</table>\n",
       "</div>"
      ],
      "text/plain": [
       "           Vize     Final     Quiz1     Quiz2  Ortalama  artıPuan\n",
       "Ahmet  1.918575 -0.022423  1.504731 -0.402798  0.429150  3.009462\n",
       "Ayşe  -1.627113 -0.259734 -0.999342 -0.541398 -1.107604 -1.998684\n",
       "Fatma  2.171163  1.130946  1.572311  0.559315 -0.931527  3.144622"
      ]
     },
     "execution_count": 29,
     "metadata": {},
     "output_type": "execute_result"
    }
   ],
   "source": [
    "yeniDataFrame"
   ]
  },
  {
   "cell_type": "code",
   "execution_count": 30,
   "id": "5d0e870c",
   "metadata": {},
   "outputs": [
    {
     "data": {
      "text/plain": [
       "1.5047310367890638"
      ]
     },
     "execution_count": 30,
     "metadata": {},
     "output_type": "execute_result"
    }
   ],
   "source": [
    "yeniDataFrame.loc[\"Ahmet\"][\"Quiz1\"]"
   ]
  },
  {
   "cell_type": "code",
   "execution_count": 31,
   "id": "9eed00e2",
   "metadata": {},
   "outputs": [
    {
     "data": {
      "text/plain": [
       "1.5047310367890638"
      ]
     },
     "execution_count": 31,
     "metadata": {},
     "output_type": "execute_result"
    }
   ],
   "source": [
    "yeniDataFrame.loc[\"Ahmet\",\"Quiz1\"]"
   ]
  },
  {
   "cell_type": "code",
   "execution_count": 34,
   "id": "d9dcd04a",
   "metadata": {},
   "outputs": [],
   "source": [
    "deger=yeniDataFrame>0"
   ]
  },
  {
   "cell_type": "code",
   "execution_count": 35,
   "id": "565569a1",
   "metadata": {},
   "outputs": [
    {
     "data": {
      "text/html": [
       "<div>\n",
       "<style scoped>\n",
       "    .dataframe tbody tr th:only-of-type {\n",
       "        vertical-align: middle;\n",
       "    }\n",
       "\n",
       "    .dataframe tbody tr th {\n",
       "        vertical-align: top;\n",
       "    }\n",
       "\n",
       "    .dataframe thead th {\n",
       "        text-align: right;\n",
       "    }\n",
       "</style>\n",
       "<table border=\"1\" class=\"dataframe\">\n",
       "  <thead>\n",
       "    <tr style=\"text-align: right;\">\n",
       "      <th></th>\n",
       "      <th>Vize</th>\n",
       "      <th>Final</th>\n",
       "      <th>Quiz1</th>\n",
       "      <th>Quiz2</th>\n",
       "      <th>Ortalama</th>\n",
       "      <th>artıPuan</th>\n",
       "    </tr>\n",
       "  </thead>\n",
       "  <tbody>\n",
       "    <tr>\n",
       "      <th>Ahmet</th>\n",
       "      <td>True</td>\n",
       "      <td>False</td>\n",
       "      <td>True</td>\n",
       "      <td>False</td>\n",
       "      <td>True</td>\n",
       "      <td>True</td>\n",
       "    </tr>\n",
       "    <tr>\n",
       "      <th>Ayşe</th>\n",
       "      <td>False</td>\n",
       "      <td>False</td>\n",
       "      <td>False</td>\n",
       "      <td>False</td>\n",
       "      <td>False</td>\n",
       "      <td>False</td>\n",
       "    </tr>\n",
       "    <tr>\n",
       "      <th>Fatma</th>\n",
       "      <td>True</td>\n",
       "      <td>True</td>\n",
       "      <td>True</td>\n",
       "      <td>True</td>\n",
       "      <td>False</td>\n",
       "      <td>True</td>\n",
       "    </tr>\n",
       "  </tbody>\n",
       "</table>\n",
       "</div>"
      ],
      "text/plain": [
       "        Vize  Final  Quiz1  Quiz2  Ortalama  artıPuan\n",
       "Ahmet   True  False   True  False      True      True\n",
       "Ayşe   False  False  False  False     False     False\n",
       "Fatma   True   True   True   True     False      True"
      ]
     },
     "execution_count": 35,
     "metadata": {},
     "output_type": "execute_result"
    }
   ],
   "source": [
    "deger"
   ]
  },
  {
   "cell_type": "code",
   "execution_count": 36,
   "id": "28a080d6",
   "metadata": {},
   "outputs": [
    {
     "data": {
      "text/html": [
       "<div>\n",
       "<style scoped>\n",
       "    .dataframe tbody tr th:only-of-type {\n",
       "        vertical-align: middle;\n",
       "    }\n",
       "\n",
       "    .dataframe tbody tr th {\n",
       "        vertical-align: top;\n",
       "    }\n",
       "\n",
       "    .dataframe thead th {\n",
       "        text-align: right;\n",
       "    }\n",
       "</style>\n",
       "<table border=\"1\" class=\"dataframe\">\n",
       "  <thead>\n",
       "    <tr style=\"text-align: right;\">\n",
       "      <th></th>\n",
       "      <th>Vize</th>\n",
       "      <th>Final</th>\n",
       "      <th>Quiz1</th>\n",
       "      <th>Quiz2</th>\n",
       "      <th>Ortalama</th>\n",
       "      <th>artıPuan</th>\n",
       "    </tr>\n",
       "  </thead>\n",
       "  <tbody>\n",
       "    <tr>\n",
       "      <th>Ahmet</th>\n",
       "      <td>1.918575</td>\n",
       "      <td>NaN</td>\n",
       "      <td>1.504731</td>\n",
       "      <td>NaN</td>\n",
       "      <td>0.42915</td>\n",
       "      <td>3.009462</td>\n",
       "    </tr>\n",
       "    <tr>\n",
       "      <th>Ayşe</th>\n",
       "      <td>NaN</td>\n",
       "      <td>NaN</td>\n",
       "      <td>NaN</td>\n",
       "      <td>NaN</td>\n",
       "      <td>NaN</td>\n",
       "      <td>NaN</td>\n",
       "    </tr>\n",
       "    <tr>\n",
       "      <th>Fatma</th>\n",
       "      <td>2.171163</td>\n",
       "      <td>1.130946</td>\n",
       "      <td>1.572311</td>\n",
       "      <td>0.559315</td>\n",
       "      <td>NaN</td>\n",
       "      <td>3.144622</td>\n",
       "    </tr>\n",
       "  </tbody>\n",
       "</table>\n",
       "</div>"
      ],
      "text/plain": [
       "           Vize     Final     Quiz1     Quiz2  Ortalama  artıPuan\n",
       "Ahmet  1.918575       NaN  1.504731       NaN   0.42915  3.009462\n",
       "Ayşe        NaN       NaN       NaN       NaN       NaN       NaN\n",
       "Fatma  2.171163  1.130946  1.572311  0.559315       NaN  3.144622"
      ]
     },
     "execution_count": 36,
     "metadata": {},
     "output_type": "execute_result"
    }
   ],
   "source": [
    "yeniDataFrame[deger]"
   ]
  },
  {
   "cell_type": "code",
   "execution_count": 37,
   "id": "1a23c830",
   "metadata": {},
   "outputs": [
    {
     "data": {
      "text/html": [
       "<div>\n",
       "<style scoped>\n",
       "    .dataframe tbody tr th:only-of-type {\n",
       "        vertical-align: middle;\n",
       "    }\n",
       "\n",
       "    .dataframe tbody tr th {\n",
       "        vertical-align: top;\n",
       "    }\n",
       "\n",
       "    .dataframe thead th {\n",
       "        text-align: right;\n",
       "    }\n",
       "</style>\n",
       "<table border=\"1\" class=\"dataframe\">\n",
       "  <thead>\n",
       "    <tr style=\"text-align: right;\">\n",
       "      <th></th>\n",
       "      <th>Vize</th>\n",
       "      <th>Final</th>\n",
       "      <th>Quiz1</th>\n",
       "      <th>Quiz2</th>\n",
       "      <th>Ortalama</th>\n",
       "      <th>artıPuan</th>\n",
       "    </tr>\n",
       "  </thead>\n",
       "  <tbody>\n",
       "    <tr>\n",
       "      <th>Ahmet</th>\n",
       "      <td>1.918575</td>\n",
       "      <td>NaN</td>\n",
       "      <td>1.504731</td>\n",
       "      <td>NaN</td>\n",
       "      <td>0.42915</td>\n",
       "      <td>3.009462</td>\n",
       "    </tr>\n",
       "    <tr>\n",
       "      <th>Ayşe</th>\n",
       "      <td>NaN</td>\n",
       "      <td>NaN</td>\n",
       "      <td>NaN</td>\n",
       "      <td>NaN</td>\n",
       "      <td>NaN</td>\n",
       "      <td>NaN</td>\n",
       "    </tr>\n",
       "    <tr>\n",
       "      <th>Fatma</th>\n",
       "      <td>2.171163</td>\n",
       "      <td>1.130946</td>\n",
       "      <td>1.572311</td>\n",
       "      <td>0.559315</td>\n",
       "      <td>NaN</td>\n",
       "      <td>3.144622</td>\n",
       "    </tr>\n",
       "  </tbody>\n",
       "</table>\n",
       "</div>"
      ],
      "text/plain": [
       "           Vize     Final     Quiz1     Quiz2  Ortalama  artıPuan\n",
       "Ahmet  1.918575       NaN  1.504731       NaN   0.42915  3.009462\n",
       "Ayşe        NaN       NaN       NaN       NaN       NaN       NaN\n",
       "Fatma  2.171163  1.130946  1.572311  0.559315       NaN  3.144622"
      ]
     },
     "execution_count": 37,
     "metadata": {},
     "output_type": "execute_result"
    }
   ],
   "source": [
    "yeniDataFrame[yeniDataFrame>0]"
   ]
  },
  {
   "cell_type": "code",
   "execution_count": 38,
   "id": "12b025ed",
   "metadata": {},
   "outputs": [],
   "source": [
    "#Kolonlarda Filtreleme yapılabilir.\n",
    "\n",
    "deger2=yeniDataFrame[\"Final\"]>0"
   ]
  },
  {
   "cell_type": "code",
   "execution_count": 39,
   "id": "7c3b0549",
   "metadata": {},
   "outputs": [
    {
     "data": {
      "text/html": [
       "<div>\n",
       "<style scoped>\n",
       "    .dataframe tbody tr th:only-of-type {\n",
       "        vertical-align: middle;\n",
       "    }\n",
       "\n",
       "    .dataframe tbody tr th {\n",
       "        vertical-align: top;\n",
       "    }\n",
       "\n",
       "    .dataframe thead th {\n",
       "        text-align: right;\n",
       "    }\n",
       "</style>\n",
       "<table border=\"1\" class=\"dataframe\">\n",
       "  <thead>\n",
       "    <tr style=\"text-align: right;\">\n",
       "      <th></th>\n",
       "      <th>Vize</th>\n",
       "      <th>Final</th>\n",
       "      <th>Quiz1</th>\n",
       "      <th>Quiz2</th>\n",
       "      <th>Ortalama</th>\n",
       "      <th>artıPuan</th>\n",
       "    </tr>\n",
       "  </thead>\n",
       "  <tbody>\n",
       "    <tr>\n",
       "      <th>Fatma</th>\n",
       "      <td>2.171163</td>\n",
       "      <td>1.130946</td>\n",
       "      <td>1.572311</td>\n",
       "      <td>0.559315</td>\n",
       "      <td>-0.931527</td>\n",
       "      <td>3.144622</td>\n",
       "    </tr>\n",
       "  </tbody>\n",
       "</table>\n",
       "</div>"
      ],
      "text/plain": [
       "           Vize     Final     Quiz1     Quiz2  Ortalama  artıPuan\n",
       "Fatma  2.171163  1.130946  1.572311  0.559315 -0.931527  3.144622"
      ]
     },
     "execution_count": 39,
     "metadata": {},
     "output_type": "execute_result"
    }
   ],
   "source": [
    "#Sadece şartı sağlayan değer geldi.\n",
    "yeniDataFrame[deger2]"
   ]
  },
  {
   "cell_type": "code",
   "execution_count": 40,
   "id": "a1517cd6",
   "metadata": {},
   "outputs": [],
   "source": [
    "#indeksi sıfırlamak istersek \"reset_index() kullanırız ama kalıcı olması için inplace kullanılmalı\""
   ]
  },
  {
   "cell_type": "code",
   "execution_count": 44,
   "id": "7534f771",
   "metadata": {},
   "outputs": [],
   "source": [
    "yeniDataFrame.reset_index(inplace=True)\n"
   ]
  },
  {
   "cell_type": "code",
   "execution_count": 45,
   "id": "0d28bc30",
   "metadata": {},
   "outputs": [
    {
     "data": {
      "text/html": [
       "<div>\n",
       "<style scoped>\n",
       "    .dataframe tbody tr th:only-of-type {\n",
       "        vertical-align: middle;\n",
       "    }\n",
       "\n",
       "    .dataframe tbody tr th {\n",
       "        vertical-align: top;\n",
       "    }\n",
       "\n",
       "    .dataframe thead th {\n",
       "        text-align: right;\n",
       "    }\n",
       "</style>\n",
       "<table border=\"1\" class=\"dataframe\">\n",
       "  <thead>\n",
       "    <tr style=\"text-align: right;\">\n",
       "      <th></th>\n",
       "      <th>index</th>\n",
       "      <th>Vize</th>\n",
       "      <th>Final</th>\n",
       "      <th>Quiz1</th>\n",
       "      <th>Quiz2</th>\n",
       "      <th>Ortalama</th>\n",
       "      <th>artıPuan</th>\n",
       "    </tr>\n",
       "  </thead>\n",
       "  <tbody>\n",
       "    <tr>\n",
       "      <th>0</th>\n",
       "      <td>Ahmet</td>\n",
       "      <td>1.918575</td>\n",
       "      <td>-0.022423</td>\n",
       "      <td>1.504731</td>\n",
       "      <td>-0.402798</td>\n",
       "      <td>0.429150</td>\n",
       "      <td>3.009462</td>\n",
       "    </tr>\n",
       "    <tr>\n",
       "      <th>1</th>\n",
       "      <td>Ayşe</td>\n",
       "      <td>-1.627113</td>\n",
       "      <td>-0.259734</td>\n",
       "      <td>-0.999342</td>\n",
       "      <td>-0.541398</td>\n",
       "      <td>-1.107604</td>\n",
       "      <td>-1.998684</td>\n",
       "    </tr>\n",
       "    <tr>\n",
       "      <th>2</th>\n",
       "      <td>Fatma</td>\n",
       "      <td>2.171163</td>\n",
       "      <td>1.130946</td>\n",
       "      <td>1.572311</td>\n",
       "      <td>0.559315</td>\n",
       "      <td>-0.931527</td>\n",
       "      <td>3.144622</td>\n",
       "    </tr>\n",
       "  </tbody>\n",
       "</table>\n",
       "</div>"
      ],
      "text/plain": [
       "   index      Vize     Final     Quiz1     Quiz2  Ortalama  artıPuan\n",
       "0  Ahmet  1.918575 -0.022423  1.504731 -0.402798  0.429150  3.009462\n",
       "1   Ayşe -1.627113 -0.259734 -0.999342 -0.541398 -1.107604 -1.998684\n",
       "2  Fatma  2.171163  1.130946  1.572311  0.559315 -0.931527  3.144622"
      ]
     },
     "execution_count": 45,
     "metadata": {},
     "output_type": "execute_result"
    }
   ],
   "source": [
    "yeniDataFrame"
   ]
  },
  {
   "cell_type": "markdown",
   "id": "128e3554",
   "metadata": {},
   "source": [
    "## İndeks Değiştirme"
   ]
  },
  {
   "cell_type": "code",
   "execution_count": 46,
   "id": "22dd7bc3",
   "metadata": {},
   "outputs": [],
   "source": [
    "adlarListesi=[\"Ahmt\",\"Ayş\",\"Ftm\"] "
   ]
  },
  {
   "cell_type": "code",
   "execution_count": 47,
   "id": "27e1d455",
   "metadata": {},
   "outputs": [],
   "source": [
    "yeniDataFrame[\"AdlarKısaltması\"]=adlarListesi"
   ]
  },
  {
   "cell_type": "code",
   "execution_count": 48,
   "id": "a3d12458",
   "metadata": {},
   "outputs": [
    {
     "data": {
      "text/html": [
       "<div>\n",
       "<style scoped>\n",
       "    .dataframe tbody tr th:only-of-type {\n",
       "        vertical-align: middle;\n",
       "    }\n",
       "\n",
       "    .dataframe tbody tr th {\n",
       "        vertical-align: top;\n",
       "    }\n",
       "\n",
       "    .dataframe thead th {\n",
       "        text-align: right;\n",
       "    }\n",
       "</style>\n",
       "<table border=\"1\" class=\"dataframe\">\n",
       "  <thead>\n",
       "    <tr style=\"text-align: right;\">\n",
       "      <th></th>\n",
       "      <th>index</th>\n",
       "      <th>Vize</th>\n",
       "      <th>Final</th>\n",
       "      <th>Quiz1</th>\n",
       "      <th>Quiz2</th>\n",
       "      <th>Ortalama</th>\n",
       "      <th>artıPuan</th>\n",
       "      <th>AdlarKısaltması</th>\n",
       "    </tr>\n",
       "  </thead>\n",
       "  <tbody>\n",
       "    <tr>\n",
       "      <th>0</th>\n",
       "      <td>Ahmet</td>\n",
       "      <td>1.918575</td>\n",
       "      <td>-0.022423</td>\n",
       "      <td>1.504731</td>\n",
       "      <td>-0.402798</td>\n",
       "      <td>0.429150</td>\n",
       "      <td>3.009462</td>\n",
       "      <td>Ahmt</td>\n",
       "    </tr>\n",
       "    <tr>\n",
       "      <th>1</th>\n",
       "      <td>Ayşe</td>\n",
       "      <td>-1.627113</td>\n",
       "      <td>-0.259734</td>\n",
       "      <td>-0.999342</td>\n",
       "      <td>-0.541398</td>\n",
       "      <td>-1.107604</td>\n",
       "      <td>-1.998684</td>\n",
       "      <td>Ayş</td>\n",
       "    </tr>\n",
       "    <tr>\n",
       "      <th>2</th>\n",
       "      <td>Fatma</td>\n",
       "      <td>2.171163</td>\n",
       "      <td>1.130946</td>\n",
       "      <td>1.572311</td>\n",
       "      <td>0.559315</td>\n",
       "      <td>-0.931527</td>\n",
       "      <td>3.144622</td>\n",
       "      <td>Ftm</td>\n",
       "    </tr>\n",
       "  </tbody>\n",
       "</table>\n",
       "</div>"
      ],
      "text/plain": [
       "   index      Vize     Final     Quiz1     Quiz2  Ortalama  artıPuan  \\\n",
       "0  Ahmet  1.918575 -0.022423  1.504731 -0.402798  0.429150  3.009462   \n",
       "1   Ayşe -1.627113 -0.259734 -0.999342 -0.541398 -1.107604 -1.998684   \n",
       "2  Fatma  2.171163  1.130946  1.572311  0.559315 -0.931527  3.144622   \n",
       "\n",
       "  AdlarKısaltması  \n",
       "0            Ahmt  \n",
       "1             Ayş  \n",
       "2             Ftm  "
      ]
     },
     "execution_count": 48,
     "metadata": {},
     "output_type": "execute_result"
    }
   ],
   "source": [
    "yeniDataFrame"
   ]
  },
  {
   "cell_type": "code",
   "execution_count": 51,
   "id": "bd15e843",
   "metadata": {},
   "outputs": [],
   "source": [
    "yeniDataFrame.set_index(\"AdlarKısaltması\",inplace=True)"
   ]
  },
  {
   "cell_type": "code",
   "execution_count": 52,
   "id": "ea70735f",
   "metadata": {},
   "outputs": [
    {
     "data": {
      "text/html": [
       "<div>\n",
       "<style scoped>\n",
       "    .dataframe tbody tr th:only-of-type {\n",
       "        vertical-align: middle;\n",
       "    }\n",
       "\n",
       "    .dataframe tbody tr th {\n",
       "        vertical-align: top;\n",
       "    }\n",
       "\n",
       "    .dataframe thead th {\n",
       "        text-align: right;\n",
       "    }\n",
       "</style>\n",
       "<table border=\"1\" class=\"dataframe\">\n",
       "  <thead>\n",
       "    <tr style=\"text-align: right;\">\n",
       "      <th></th>\n",
       "      <th>index</th>\n",
       "      <th>Vize</th>\n",
       "      <th>Final</th>\n",
       "      <th>Quiz1</th>\n",
       "      <th>Quiz2</th>\n",
       "      <th>Ortalama</th>\n",
       "      <th>artıPuan</th>\n",
       "    </tr>\n",
       "    <tr>\n",
       "      <th>AdlarKısaltması</th>\n",
       "      <th></th>\n",
       "      <th></th>\n",
       "      <th></th>\n",
       "      <th></th>\n",
       "      <th></th>\n",
       "      <th></th>\n",
       "      <th></th>\n",
       "    </tr>\n",
       "  </thead>\n",
       "  <tbody>\n",
       "    <tr>\n",
       "      <th>Ahmt</th>\n",
       "      <td>Ahmet</td>\n",
       "      <td>1.918575</td>\n",
       "      <td>-0.022423</td>\n",
       "      <td>1.504731</td>\n",
       "      <td>-0.402798</td>\n",
       "      <td>0.429150</td>\n",
       "      <td>3.009462</td>\n",
       "    </tr>\n",
       "    <tr>\n",
       "      <th>Ayş</th>\n",
       "      <td>Ayşe</td>\n",
       "      <td>-1.627113</td>\n",
       "      <td>-0.259734</td>\n",
       "      <td>-0.999342</td>\n",
       "      <td>-0.541398</td>\n",
       "      <td>-1.107604</td>\n",
       "      <td>-1.998684</td>\n",
       "    </tr>\n",
       "    <tr>\n",
       "      <th>Ftm</th>\n",
       "      <td>Fatma</td>\n",
       "      <td>2.171163</td>\n",
       "      <td>1.130946</td>\n",
       "      <td>1.572311</td>\n",
       "      <td>0.559315</td>\n",
       "      <td>-0.931527</td>\n",
       "      <td>3.144622</td>\n",
       "    </tr>\n",
       "  </tbody>\n",
       "</table>\n",
       "</div>"
      ],
      "text/plain": [
       "                 index      Vize     Final     Quiz1     Quiz2  Ortalama  \\\n",
       "AdlarKısaltması                                                            \n",
       "Ahmt             Ahmet  1.918575 -0.022423  1.504731 -0.402798  0.429150   \n",
       "Ayş               Ayşe -1.627113 -0.259734 -0.999342 -0.541398 -1.107604   \n",
       "Ftm              Fatma  2.171163  1.130946  1.572311  0.559315 -0.931527   \n",
       "\n",
       "                 artıPuan  \n",
       "AdlarKısaltması            \n",
       "Ahmt             3.009462  \n",
       "Ayş             -1.998684  \n",
       "Ftm              3.144622  "
      ]
     },
     "execution_count": 52,
     "metadata": {},
     "output_type": "execute_result"
    }
   ],
   "source": [
    "yeniDataFrame"
   ]
  },
  {
   "cell_type": "code",
   "execution_count": 54,
   "id": "b7dce358",
   "metadata": {},
   "outputs": [
    {
     "data": {
      "text/html": [
       "<div>\n",
       "<style scoped>\n",
       "    .dataframe tbody tr th:only-of-type {\n",
       "        vertical-align: middle;\n",
       "    }\n",
       "\n",
       "    .dataframe tbody tr th {\n",
       "        vertical-align: top;\n",
       "    }\n",
       "\n",
       "    .dataframe thead th {\n",
       "        text-align: right;\n",
       "    }\n",
       "</style>\n",
       "<table border=\"1\" class=\"dataframe\">\n",
       "  <thead>\n",
       "    <tr style=\"text-align: right;\">\n",
       "      <th></th>\n",
       "      <th>index</th>\n",
       "      <th>Vize</th>\n",
       "      <th>Final</th>\n",
       "      <th>Quiz1</th>\n",
       "      <th>Quiz2</th>\n",
       "      <th>Ortalama</th>\n",
       "      <th>artıPuan</th>\n",
       "    </tr>\n",
       "    <tr>\n",
       "      <th>AdlarKısaltması</th>\n",
       "      <th></th>\n",
       "      <th></th>\n",
       "      <th></th>\n",
       "      <th></th>\n",
       "      <th></th>\n",
       "      <th></th>\n",
       "      <th></th>\n",
       "    </tr>\n",
       "  </thead>\n",
       "  <tbody>\n",
       "    <tr>\n",
       "      <th>Ahmt</th>\n",
       "      <td>Ahmet</td>\n",
       "      <td>1.918575</td>\n",
       "      <td>-0.022423</td>\n",
       "      <td>1.504731</td>\n",
       "      <td>-0.402798</td>\n",
       "      <td>0.429150</td>\n",
       "      <td>3.009462</td>\n",
       "    </tr>\n",
       "    <tr>\n",
       "      <th>Ayş</th>\n",
       "      <td>Ayşe</td>\n",
       "      <td>-1.627113</td>\n",
       "      <td>-0.259734</td>\n",
       "      <td>-0.999342</td>\n",
       "      <td>-0.541398</td>\n",
       "      <td>-1.107604</td>\n",
       "      <td>-1.998684</td>\n",
       "    </tr>\n",
       "    <tr>\n",
       "      <th>Ftm</th>\n",
       "      <td>Fatma</td>\n",
       "      <td>2.171163</td>\n",
       "      <td>1.130946</td>\n",
       "      <td>1.572311</td>\n",
       "      <td>0.559315</td>\n",
       "      <td>-0.931527</td>\n",
       "      <td>3.144622</td>\n",
       "    </tr>\n",
       "  </tbody>\n",
       "</table>\n",
       "</div>"
      ],
      "text/plain": [
       "                 index      Vize     Final     Quiz1     Quiz2  Ortalama  \\\n",
       "AdlarKısaltması                                                            \n",
       "Ahmt             Ahmet  1.918575 -0.022423  1.504731 -0.402798  0.429150   \n",
       "Ayş               Ayşe -1.627113 -0.259734 -0.999342 -0.541398 -1.107604   \n",
       "Ftm              Fatma  2.171163  1.130946  1.572311  0.559315 -0.931527   \n",
       "\n",
       "                 artıPuan  \n",
       "AdlarKısaltması            \n",
       "Ahmt             3.009462  \n",
       "Ayş             -1.998684  \n",
       "Ftm              3.144622  "
      ]
     },
     "execution_count": 54,
     "metadata": {},
     "output_type": "execute_result"
    }
   ],
   "source": [
    "yeniDataFrame"
   ]
  },
  {
   "cell_type": "markdown",
   "id": "2d5106f1",
   "metadata": {},
   "source": [
    "## Multi İndeks"
   ]
  },
  {
   "cell_type": "code",
   "execution_count": 55,
   "id": "5d8370e6",
   "metadata": {},
   "outputs": [],
   "source": [
    "ilkIndeksler=[\"Kuş\",\"Kuş\",\"Kuş\",\"Sürüngen\",\"Sürüngen\"]\n",
    "icindekiler=[\"Bülbül\",\"Kartal\",\"Papağan\",\"Yılan\",\"Kertenkele\"]"
   ]
  },
  {
   "cell_type": "code",
   "execution_count": 56,
   "id": "982935aa",
   "metadata": {},
   "outputs": [],
   "source": [
    "birlesmisListe=list(zip(ilkIndeksler,icindekiler))"
   ]
  },
  {
   "cell_type": "code",
   "execution_count": 57,
   "id": "7663e1b7",
   "metadata": {},
   "outputs": [
    {
     "data": {
      "text/plain": [
       "[('Kuş', 'Bülbül'),\n",
       " ('Kuş', 'Kartal'),\n",
       " ('Kuş', 'Papağan'),\n",
       " ('Sürüngen', 'Yılan'),\n",
       " ('Sürüngen', 'Kertenkele')]"
      ]
     },
     "execution_count": 57,
     "metadata": {},
     "output_type": "execute_result"
    }
   ],
   "source": [
    "birlesmisListe"
   ]
  },
  {
   "cell_type": "code",
   "execution_count": 58,
   "id": "f61019ab",
   "metadata": {},
   "outputs": [],
   "source": [
    "sonBirlesme=pd.MultiIndex.from_tuples(birlesmisListe)"
   ]
  },
  {
   "cell_type": "code",
   "execution_count": 59,
   "id": "2c314c8c",
   "metadata": {},
   "outputs": [
    {
     "data": {
      "text/plain": [
       "MultiIndex([(     'Kuş',     'Bülbül'),\n",
       "            (     'Kuş',     'Kartal'),\n",
       "            (     'Kuş',    'Papağan'),\n",
       "            ('Sürüngen',      'Yılan'),\n",
       "            ('Sürüngen', 'Kertenkele')],\n",
       "           )"
      ]
     },
     "execution_count": 59,
     "metadata": {},
     "output_type": "execute_result"
    }
   ],
   "source": [
    "sonBirlesme"
   ]
  },
  {
   "cell_type": "code",
   "execution_count": 60,
   "id": "1c27049b",
   "metadata": {},
   "outputs": [],
   "source": [
    "data=[[40,\"A\"],[50,\"B\"],[60,\"C\"],[70,\"D\"],[80,\"E\"]]"
   ]
  },
  {
   "cell_type": "code",
   "execution_count": 61,
   "id": "fd7fcc45",
   "metadata": {},
   "outputs": [],
   "source": [
    "numpyarray=np.array(data)\n",
    "dataFrameSonBirlesme=pd.DataFrame(numpyarray,index=sonBirlesme,columns=[\"Puan\",\"Sınıf\"])"
   ]
  },
  {
   "cell_type": "code",
   "execution_count": 62,
   "id": "ea20c843",
   "metadata": {
    "scrolled": true
   },
   "outputs": [
    {
     "data": {
      "text/html": [
       "<div>\n",
       "<style scoped>\n",
       "    .dataframe tbody tr th:only-of-type {\n",
       "        vertical-align: middle;\n",
       "    }\n",
       "\n",
       "    .dataframe tbody tr th {\n",
       "        vertical-align: top;\n",
       "    }\n",
       "\n",
       "    .dataframe thead th {\n",
       "        text-align: right;\n",
       "    }\n",
       "</style>\n",
       "<table border=\"1\" class=\"dataframe\">\n",
       "  <thead>\n",
       "    <tr style=\"text-align: right;\">\n",
       "      <th></th>\n",
       "      <th></th>\n",
       "      <th>Puan</th>\n",
       "      <th>Sınıf</th>\n",
       "    </tr>\n",
       "  </thead>\n",
       "  <tbody>\n",
       "    <tr>\n",
       "      <th rowspan=\"3\" valign=\"top\">Kuş</th>\n",
       "      <th>Bülbül</th>\n",
       "      <td>40</td>\n",
       "      <td>A</td>\n",
       "    </tr>\n",
       "    <tr>\n",
       "      <th>Kartal</th>\n",
       "      <td>50</td>\n",
       "      <td>B</td>\n",
       "    </tr>\n",
       "    <tr>\n",
       "      <th>Papağan</th>\n",
       "      <td>60</td>\n",
       "      <td>C</td>\n",
       "    </tr>\n",
       "    <tr>\n",
       "      <th rowspan=\"2\" valign=\"top\">Sürüngen</th>\n",
       "      <th>Yılan</th>\n",
       "      <td>70</td>\n",
       "      <td>D</td>\n",
       "    </tr>\n",
       "    <tr>\n",
       "      <th>Kertenkele</th>\n",
       "      <td>80</td>\n",
       "      <td>E</td>\n",
       "    </tr>\n",
       "  </tbody>\n",
       "</table>\n",
       "</div>"
      ],
      "text/plain": [
       "                    Puan Sınıf\n",
       "Kuş      Bülbül       40     A\n",
       "         Kartal       50     B\n",
       "         Papağan      60     C\n",
       "Sürüngen Yılan        70     D\n",
       "         Kertenkele   80     E"
      ]
     },
     "execution_count": 62,
     "metadata": {},
     "output_type": "execute_result"
    }
   ],
   "source": [
    "dataFrameSonBirlesme"
   ]
  },
  {
   "cell_type": "code",
   "execution_count": 63,
   "id": "eeeb13d0",
   "metadata": {},
   "outputs": [
    {
     "data": {
      "text/plain": [
       "Puan     40\n",
       "Sınıf     A\n",
       "Name: Bülbül, dtype: object"
      ]
     },
     "execution_count": 63,
     "metadata": {},
     "output_type": "execute_result"
    }
   ],
   "source": [
    "dataFrameSonBirlesme.loc[\"Kuş\"].loc[\"Bülbül\"]"
   ]
  },
  {
   "cell_type": "code",
   "execution_count": 64,
   "id": "a9ae6c12",
   "metadata": {},
   "outputs": [],
   "source": [
    "dataFrameSonBirlesme.index.names=[\"Cins\",\"Adı\"]"
   ]
  },
  {
   "cell_type": "code",
   "execution_count": 65,
   "id": "a9c91eb3",
   "metadata": {},
   "outputs": [
    {
     "data": {
      "text/html": [
       "<div>\n",
       "<style scoped>\n",
       "    .dataframe tbody tr th:only-of-type {\n",
       "        vertical-align: middle;\n",
       "    }\n",
       "\n",
       "    .dataframe tbody tr th {\n",
       "        vertical-align: top;\n",
       "    }\n",
       "\n",
       "    .dataframe thead th {\n",
       "        text-align: right;\n",
       "    }\n",
       "</style>\n",
       "<table border=\"1\" class=\"dataframe\">\n",
       "  <thead>\n",
       "    <tr style=\"text-align: right;\">\n",
       "      <th></th>\n",
       "      <th></th>\n",
       "      <th>Puan</th>\n",
       "      <th>Sınıf</th>\n",
       "    </tr>\n",
       "    <tr>\n",
       "      <th>Cins</th>\n",
       "      <th>Adı</th>\n",
       "      <th></th>\n",
       "      <th></th>\n",
       "    </tr>\n",
       "  </thead>\n",
       "  <tbody>\n",
       "    <tr>\n",
       "      <th rowspan=\"3\" valign=\"top\">Kuş</th>\n",
       "      <th>Bülbül</th>\n",
       "      <td>40</td>\n",
       "      <td>A</td>\n",
       "    </tr>\n",
       "    <tr>\n",
       "      <th>Kartal</th>\n",
       "      <td>50</td>\n",
       "      <td>B</td>\n",
       "    </tr>\n",
       "    <tr>\n",
       "      <th>Papağan</th>\n",
       "      <td>60</td>\n",
       "      <td>C</td>\n",
       "    </tr>\n",
       "    <tr>\n",
       "      <th rowspan=\"2\" valign=\"top\">Sürüngen</th>\n",
       "      <th>Yılan</th>\n",
       "      <td>70</td>\n",
       "      <td>D</td>\n",
       "    </tr>\n",
       "    <tr>\n",
       "      <th>Kertenkele</th>\n",
       "      <td>80</td>\n",
       "      <td>E</td>\n",
       "    </tr>\n",
       "  </tbody>\n",
       "</table>\n",
       "</div>"
      ],
      "text/plain": [
       "                    Puan Sınıf\n",
       "Cins     Adı                  \n",
       "Kuş      Bülbül       40     A\n",
       "         Kartal       50     B\n",
       "         Papağan      60     C\n",
       "Sürüngen Yılan        70     D\n",
       "         Kertenkele   80     E"
      ]
     },
     "execution_count": 65,
     "metadata": {},
     "output_type": "execute_result"
    }
   ],
   "source": [
    "dataFrameSonBirlesme"
   ]
  },
  {
   "cell_type": "code",
   "execution_count": null,
   "id": "02d0abbc",
   "metadata": {},
   "outputs": [],
   "source": []
  }
 ],
 "metadata": {
  "kernelspec": {
   "display_name": "Python 3 (ipykernel)",
   "language": "python",
   "name": "python3"
  },
  "language_info": {
   "codemirror_mode": {
    "name": "ipython",
    "version": 3
   },
   "file_extension": ".py",
   "mimetype": "text/x-python",
   "name": "python",
   "nbconvert_exporter": "python",
   "pygments_lexer": "ipython3",
   "version": "3.11.5"
  }
 },
 "nbformat": 4,
 "nbformat_minor": 5
}
