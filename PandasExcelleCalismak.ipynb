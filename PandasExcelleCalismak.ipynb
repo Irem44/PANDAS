{
 "cells": [
  {
   "cell_type": "code",
   "execution_count": 1,
   "id": "915ec890",
   "metadata": {},
   "outputs": [],
   "source": [
    "#jpyter notebook(PandasExcelleCalismak)hangi klasörde ise excel dosyayısı orda."
   ]
  },
  {
   "cell_type": "code",
   "execution_count": 2,
   "id": "60cab006",
   "metadata": {},
   "outputs": [],
   "source": [
    "import pandas as pd"
   ]
  },
  {
   "cell_type": "code",
   "execution_count": 3,
   "id": "beb11a2c",
   "metadata": {},
   "outputs": [],
   "source": [
    "#pd.read_excel(\"maas.xlsx\")\n",
    "#dataframe'e çevir.\n",
    "#x.to_excel(\"y\")  //excel'e kayıt etmek\n",
    "#read_csv\n",
    "#to_csv"
   ]
  },
  {
   "cell_type": "code",
   "execution_count": null,
   "id": "2f75aacd",
   "metadata": {},
   "outputs": [],
   "source": []
  }
 ],
 "metadata": {
  "kernelspec": {
   "display_name": "Python 3 (ipykernel)",
   "language": "python",
   "name": "python3"
  },
  "language_info": {
   "codemirror_mode": {
    "name": "ipython",
    "version": 3
   },
   "file_extension": ".py",
   "mimetype": "text/x-python",
   "name": "python",
   "nbconvert_exporter": "python",
   "pygments_lexer": "ipython3",
   "version": "3.11.5"
  }
 },
 "nbformat": 4,
 "nbformat_minor": 5
}
