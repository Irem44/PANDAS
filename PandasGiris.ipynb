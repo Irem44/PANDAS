{
 "cells": [
  {
   "cell_type": "code",
   "execution_count": 1,
   "id": "0cf184eb",
   "metadata": {},
   "outputs": [],
   "source": [
    "#Veri biliminin excel'i."
   ]
  },
  {
   "cell_type": "markdown",
   "id": "d92cb999",
   "metadata": {},
   "source": [
    "### Series"
   ]
  },
  {
   "cell_type": "code",
   "execution_count": 2,
   "id": "e8980c9e",
   "metadata": {},
   "outputs": [],
   "source": [
    "# Numpy dizisi üzerine oluşturulmuş gibi düşünülebilir.\n",
    "import numpy as np\n",
    "import pandas as pd"
   ]
  },
  {
   "cell_type": "code",
   "execution_count": 3,
   "id": "00b87928",
   "metadata": {},
   "outputs": [],
   "source": [
    "#Burada sözlük oluşturduk ve bunu serilere donüştürdük.\n",
    "benimSozlugum={\"Ali\":25,\"Ahmet\":18,\"Nalan\":15,\"Filiz\":26}\n"
   ]
  },
  {
   "cell_type": "code",
   "execution_count": 4,
   "id": "1d6d6977",
   "metadata": {},
   "outputs": [
    {
     "data": {
      "text/plain": [
       "Ali      25\n",
       "Ahmet    18\n",
       "Nalan    15\n",
       "Filiz    26\n",
       "dtype: int64"
      ]
     },
     "execution_count": 4,
     "metadata": {},
     "output_type": "execute_result"
    }
   ],
   "source": [
    "pd.Series(benimSozlugum)"
   ]
  },
  {
   "cell_type": "code",
   "execution_count": 7,
   "id": "190ef1dc",
   "metadata": {},
   "outputs": [],
   "source": [
    "#Şimdi listeler üzerinden seriye çevirmeyi denicez\n",
    "yaslar=[25,18,15,26]\n",
    "isimler=[\"Ali\",\"Ahmet\",\"Nalan\",\"Filiz\"]\n"
   ]
  },
  {
   "cell_type": "code",
   "execution_count": 8,
   "id": "d1777b15",
   "metadata": {},
   "outputs": [
    {
     "data": {
      "text/plain": [
       "Ali      25\n",
       "Ahmet    18\n",
       "Nalan    15\n",
       "Filiz    26\n",
       "dtype: int64"
      ]
     },
     "execution_count": 8,
     "metadata": {},
     "output_type": "execute_result"
    }
   ],
   "source": [
    "#Serilere 2 şekilde çeviricez\n",
    "#pd.Series(value,key)\n",
    "#1\n",
    "\n",
    "pd.Series(yaslar,isimler)\n"
   ]
  },
  {
   "cell_type": "code",
   "execution_count": 9,
   "id": "0c1fff0c",
   "metadata": {},
   "outputs": [
    {
     "data": {
      "text/plain": [
       "Ali      25\n",
       "Ahmet    18\n",
       "Nalan    15\n",
       "Filiz    26\n",
       "dtype: int64"
      ]
     },
     "execution_count": 9,
     "metadata": {},
     "output_type": "execute_result"
    }
   ],
   "source": [
    "#2\n",
    "\n",
    "pd.Series(data=yaslar,index=isimler)"
   ]
  },
  {
   "cell_type": "code",
   "execution_count": 10,
   "id": "a7ae1bd8",
   "metadata": {},
   "outputs": [],
   "source": [
    "#Liste,sözlük ve numpy dizisi zerinden seriler oluşturulabilir.\n"
   ]
  },
  {
   "cell_type": "code",
   "execution_count": 11,
   "id": "906d2a2c",
   "metadata": {},
   "outputs": [],
   "source": [
    "#Seriler kendi arasında toplanabilir."
   ]
  },
  {
   "cell_type": "code",
   "execution_count": 12,
   "id": "1d013d56",
   "metadata": {},
   "outputs": [],
   "source": [
    "not1=pd.Series(data=[10,20,30],index=[\"Fatma\",\"Ahmet\",\"Arda\"])"
   ]
  },
  {
   "cell_type": "code",
   "execution_count": 13,
   "id": "37779e8a",
   "metadata": {},
   "outputs": [],
   "source": [
    "not2=pd.Series(data=[5,10,8],index=[\"Fatma\",\"Arda\",\"Ahmet\"])"
   ]
  },
  {
   "cell_type": "code",
   "execution_count": 14,
   "id": "93c98162",
   "metadata": {},
   "outputs": [],
   "source": [
    "sonuc=not1+not2"
   ]
  },
  {
   "cell_type": "code",
   "execution_count": 15,
   "id": "76ed805f",
   "metadata": {},
   "outputs": [
    {
     "data": {
      "text/plain": [
       "Ahmet    28\n",
       "Arda     40\n",
       "Fatma    15\n",
       "dtype: int64"
      ]
     },
     "execution_count": 15,
     "metadata": {},
     "output_type": "execute_result"
    }
   ],
   "source": [
    "sonuc"
   ]
  },
  {
   "cell_type": "markdown",
   "id": "dca8c2d1",
   "metadata": {},
   "source": []
  },
  {
   "cell_type": "code",
   "execution_count": 16,
   "id": "97a4d5ed",
   "metadata": {},
   "outputs": [],
   "source": [
    "seri1=pd.Series(data=[100,200,300],index=[\"Elma\",\"Armut\",\"Kivi\"])\n",
    "seri2=pd.Series(data=[150,120,200],index=[\"Elma\",\"Armut\",\"Kivi\"])"
   ]
  },
  {
   "cell_type": "code",
   "execution_count": 17,
   "id": "f22444b1",
   "metadata": {},
   "outputs": [
    {
     "data": {
      "text/plain": [
       "Elma     100\n",
       "Armut    200\n",
       "Kivi     300\n",
       "dtype: int64"
      ]
     },
     "execution_count": 17,
     "metadata": {},
     "output_type": "execute_result"
    }
   ],
   "source": [
    "seri1"
   ]
  },
  {
   "cell_type": "code",
   "execution_count": 18,
   "id": "74c7b9ca",
   "metadata": {},
   "outputs": [
    {
     "data": {
      "text/plain": [
       "Elma     150\n",
       "Armut    120\n",
       "Kivi     200\n",
       "dtype: int64"
      ]
     },
     "execution_count": 18,
     "metadata": {},
     "output_type": "execute_result"
    }
   ],
   "source": [
    "seri2"
   ]
  },
  {
   "cell_type": "code",
   "execution_count": 19,
   "id": "37b476cb",
   "metadata": {},
   "outputs": [],
   "source": [
    "toplam=seri1+seri2"
   ]
  },
  {
   "cell_type": "code",
   "execution_count": 20,
   "id": "b590c2b9",
   "metadata": {},
   "outputs": [
    {
     "data": {
      "text/plain": [
       "Elma     250\n",
       "Armut    320\n",
       "Kivi     500\n",
       "dtype: int64"
      ]
     },
     "execution_count": 20,
     "metadata": {},
     "output_type": "execute_result"
    }
   ],
   "source": [
    "toplam"
   ]
  },
  {
   "cell_type": "code",
   "execution_count": null,
   "id": "ae064c6e",
   "metadata": {},
   "outputs": [],
   "source": []
  }
 ],
 "metadata": {
  "kernelspec": {
   "display_name": "Python 3 (ipykernel)",
   "language": "python",
   "name": "python3"
  },
  "language_info": {
   "codemirror_mode": {
    "name": "ipython",
    "version": 3
   },
   "file_extension": ".py",
   "mimetype": "text/x-python",
   "name": "python",
   "nbconvert_exporter": "python",
   "pygments_lexer": "ipython3",
   "version": "3.11.5"
  }
 },
 "nbformat": 4,
 "nbformat_minor": 5
}
