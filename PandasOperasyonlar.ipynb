{
 "cells": [
  {
   "cell_type": "markdown",
   "id": "6c23e80a",
   "metadata": {},
   "source": [
    "### Eksik Veriler"
   ]
  },
  {
   "cell_type": "markdown",
   "id": "953ff56d",
   "metadata": {},
   "source": [
    "#### Numpy da boş veriyi \"np.nan\" şeklinde oluşturabiliriz."
   ]
  },
  {
   "cell_type": "code",
   "execution_count": 1,
   "id": "c754d83d",
   "metadata": {},
   "outputs": [],
   "source": [
    "import numpy as np\n",
    "import pandas as pd"
   ]
  },
  {
   "cell_type": "code",
   "execution_count": 13,
   "id": "72537fe2",
   "metadata": {},
   "outputs": [],
   "source": [
    "havaDurumuSozluk={\"Ankara\":[20,15,np.nan],\"Adana\":[25,30,25],\"Mersin\":[np.nan,np.nan,15]}"
   ]
  },
  {
   "cell_type": "code",
   "execution_count": 14,
   "id": "472386ad",
   "metadata": {},
   "outputs": [],
   "source": [
    "dataFrame=pd.DataFrame(havaDurumuSozluk)"
   ]
  },
  {
   "cell_type": "code",
   "execution_count": 15,
   "id": "7d640321",
   "metadata": {},
   "outputs": [
    {
     "data": {
      "text/html": [
       "<div>\n",
       "<style scoped>\n",
       "    .dataframe tbody tr th:only-of-type {\n",
       "        vertical-align: middle;\n",
       "    }\n",
       "\n",
       "    .dataframe tbody tr th {\n",
       "        vertical-align: top;\n",
       "    }\n",
       "\n",
       "    .dataframe thead th {\n",
       "        text-align: right;\n",
       "    }\n",
       "</style>\n",
       "<table border=\"1\" class=\"dataframe\">\n",
       "  <thead>\n",
       "    <tr style=\"text-align: right;\">\n",
       "      <th></th>\n",
       "      <th>Ankara</th>\n",
       "      <th>Adana</th>\n",
       "      <th>Mersin</th>\n",
       "    </tr>\n",
       "  </thead>\n",
       "  <tbody>\n",
       "    <tr>\n",
       "      <th>0</th>\n",
       "      <td>20.0</td>\n",
       "      <td>25</td>\n",
       "      <td>NaN</td>\n",
       "    </tr>\n",
       "    <tr>\n",
       "      <th>1</th>\n",
       "      <td>15.0</td>\n",
       "      <td>30</td>\n",
       "      <td>NaN</td>\n",
       "    </tr>\n",
       "    <tr>\n",
       "      <th>2</th>\n",
       "      <td>NaN</td>\n",
       "      <td>25</td>\n",
       "      <td>15.0</td>\n",
       "    </tr>\n",
       "  </tbody>\n",
       "</table>\n",
       "</div>"
      ],
      "text/plain": [
       "   Ankara  Adana  Mersin\n",
       "0    20.0     25     NaN\n",
       "1    15.0     30     NaN\n",
       "2     NaN     25    15.0"
      ]
     },
     "execution_count": 15,
     "metadata": {},
     "output_type": "execute_result"
    }
   ],
   "source": [
    "dataFrame"
   ]
  },
  {
   "cell_type": "code",
   "execution_count": 16,
   "id": "2f6a3aee",
   "metadata": {},
   "outputs": [
    {
     "data": {
      "text/html": [
       "<div>\n",
       "<style scoped>\n",
       "    .dataframe tbody tr th:only-of-type {\n",
       "        vertical-align: middle;\n",
       "    }\n",
       "\n",
       "    .dataframe tbody tr th {\n",
       "        vertical-align: top;\n",
       "    }\n",
       "\n",
       "    .dataframe thead th {\n",
       "        text-align: right;\n",
       "    }\n",
       "</style>\n",
       "<table border=\"1\" class=\"dataframe\">\n",
       "  <thead>\n",
       "    <tr style=\"text-align: right;\">\n",
       "      <th></th>\n",
       "      <th>Ankara</th>\n",
       "      <th>Adana</th>\n",
       "      <th>Mersin</th>\n",
       "    </tr>\n",
       "  </thead>\n",
       "  <tbody>\n",
       "  </tbody>\n",
       "</table>\n",
       "</div>"
      ],
      "text/plain": [
       "Empty DataFrame\n",
       "Columns: [Ankara, Adana, Mersin]\n",
       "Index: []"
      ]
     },
     "execution_count": 16,
     "metadata": {},
     "output_type": "execute_result"
    }
   ],
   "source": [
    "#Satırda ve sütünda nan deger varsa çıkartır.\n",
    "dataFrame.dropna()"
   ]
  },
  {
   "cell_type": "code",
   "execution_count": 17,
   "id": "11c9eef3",
   "metadata": {
    "scrolled": true
   },
   "outputs": [
    {
     "data": {
      "text/html": [
       "<div>\n",
       "<style scoped>\n",
       "    .dataframe tbody tr th:only-of-type {\n",
       "        vertical-align: middle;\n",
       "    }\n",
       "\n",
       "    .dataframe tbody tr th {\n",
       "        vertical-align: top;\n",
       "    }\n",
       "\n",
       "    .dataframe thead th {\n",
       "        text-align: right;\n",
       "    }\n",
       "</style>\n",
       "<table border=\"1\" class=\"dataframe\">\n",
       "  <thead>\n",
       "    <tr style=\"text-align: right;\">\n",
       "      <th></th>\n",
       "      <th>Ankara</th>\n",
       "      <th>Adana</th>\n",
       "      <th>Mersin</th>\n",
       "    </tr>\n",
       "  </thead>\n",
       "  <tbody>\n",
       "    <tr>\n",
       "      <th>0</th>\n",
       "      <td>20.0</td>\n",
       "      <td>25</td>\n",
       "      <td>NaN</td>\n",
       "    </tr>\n",
       "    <tr>\n",
       "      <th>1</th>\n",
       "      <td>15.0</td>\n",
       "      <td>30</td>\n",
       "      <td>NaN</td>\n",
       "    </tr>\n",
       "    <tr>\n",
       "      <th>2</th>\n",
       "      <td>NaN</td>\n",
       "      <td>25</td>\n",
       "      <td>15.0</td>\n",
       "    </tr>\n",
       "  </tbody>\n",
       "</table>\n",
       "</div>"
      ],
      "text/plain": [
       "   Ankara  Adana  Mersin\n",
       "0    20.0     25     NaN\n",
       "1    15.0     30     NaN\n",
       "2     NaN     25    15.0"
      ]
     },
     "execution_count": 17,
     "metadata": {},
     "output_type": "execute_result"
    }
   ],
   "source": [
    "dataFrame"
   ]
  },
  {
   "cell_type": "code",
   "execution_count": 18,
   "id": "b2a454c7",
   "metadata": {},
   "outputs": [
    {
     "data": {
      "text/html": [
       "<div>\n",
       "<style scoped>\n",
       "    .dataframe tbody tr th:only-of-type {\n",
       "        vertical-align: middle;\n",
       "    }\n",
       "\n",
       "    .dataframe tbody tr th {\n",
       "        vertical-align: top;\n",
       "    }\n",
       "\n",
       "    .dataframe thead th {\n",
       "        text-align: right;\n",
       "    }\n",
       "</style>\n",
       "<table border=\"1\" class=\"dataframe\">\n",
       "  <thead>\n",
       "    <tr style=\"text-align: right;\">\n",
       "      <th></th>\n",
       "      <th>Adana</th>\n",
       "    </tr>\n",
       "  </thead>\n",
       "  <tbody>\n",
       "    <tr>\n",
       "      <th>0</th>\n",
       "      <td>25</td>\n",
       "    </tr>\n",
       "    <tr>\n",
       "      <th>1</th>\n",
       "      <td>30</td>\n",
       "    </tr>\n",
       "    <tr>\n",
       "      <th>2</th>\n",
       "      <td>25</td>\n",
       "    </tr>\n",
       "  </tbody>\n",
       "</table>\n",
       "</div>"
      ],
      "text/plain": [
       "   Adana\n",
       "0     25\n",
       "1     30\n",
       "2     25"
      ]
     },
     "execution_count": 18,
     "metadata": {},
     "output_type": "execute_result"
    }
   ],
   "source": [
    "#Kolona göre bol olmayan tek kolon geldi.\n",
    "dataFrame.dropna(axis=1)"
   ]
  },
  {
   "cell_type": "markdown",
   "id": "989c2c7d",
   "metadata": {},
   "source": [
    "#### *thresh kullanarak  sınırlama koyabiliriz."
   ]
  },
  {
   "cell_type": "code",
   "execution_count": 19,
   "id": "51da7772",
   "metadata": {},
   "outputs": [
    {
     "data": {
      "text/html": [
       "<div>\n",
       "<style scoped>\n",
       "    .dataframe tbody tr th:only-of-type {\n",
       "        vertical-align: middle;\n",
       "    }\n",
       "\n",
       "    .dataframe tbody tr th {\n",
       "        vertical-align: top;\n",
       "    }\n",
       "\n",
       "    .dataframe thead th {\n",
       "        text-align: right;\n",
       "    }\n",
       "</style>\n",
       "<table border=\"1\" class=\"dataframe\">\n",
       "  <thead>\n",
       "    <tr style=\"text-align: right;\">\n",
       "      <th></th>\n",
       "      <th>Ankara</th>\n",
       "      <th>Adana</th>\n",
       "    </tr>\n",
       "  </thead>\n",
       "  <tbody>\n",
       "    <tr>\n",
       "      <th>0</th>\n",
       "      <td>20.0</td>\n",
       "      <td>25</td>\n",
       "    </tr>\n",
       "    <tr>\n",
       "      <th>1</th>\n",
       "      <td>15.0</td>\n",
       "      <td>30</td>\n",
       "    </tr>\n",
       "    <tr>\n",
       "      <th>2</th>\n",
       "      <td>NaN</td>\n",
       "      <td>25</td>\n",
       "    </tr>\n",
       "  </tbody>\n",
       "</table>\n",
       "</div>"
      ],
      "text/plain": [
       "   Ankara  Adana\n",
       "0    20.0     25\n",
       "1    15.0     30\n",
       "2     NaN     25"
      ]
     },
     "execution_count": 19,
     "metadata": {},
     "output_type": "execute_result"
    }
   ],
   "source": [
    "dataFrame.dropna(axis=1,thresh=2)"
   ]
  },
  {
   "cell_type": "markdown",
   "id": "0ae84c2d",
   "metadata": {},
   "source": [
    "#### \"fillna() ile boş olanları doldururuz\""
   ]
  },
  {
   "cell_type": "code",
   "execution_count": 20,
   "id": "410197aa",
   "metadata": {},
   "outputs": [
    {
     "data": {
      "text/html": [
       "<div>\n",
       "<style scoped>\n",
       "    .dataframe tbody tr th:only-of-type {\n",
       "        vertical-align: middle;\n",
       "    }\n",
       "\n",
       "    .dataframe tbody tr th {\n",
       "        vertical-align: top;\n",
       "    }\n",
       "\n",
       "    .dataframe thead th {\n",
       "        text-align: right;\n",
       "    }\n",
       "</style>\n",
       "<table border=\"1\" class=\"dataframe\">\n",
       "  <thead>\n",
       "    <tr style=\"text-align: right;\">\n",
       "      <th></th>\n",
       "      <th>Ankara</th>\n",
       "      <th>Adana</th>\n",
       "      <th>Mersin</th>\n",
       "    </tr>\n",
       "  </thead>\n",
       "  <tbody>\n",
       "    <tr>\n",
       "      <th>0</th>\n",
       "      <td>20.0</td>\n",
       "      <td>25</td>\n",
       "      <td>20.0</td>\n",
       "    </tr>\n",
       "    <tr>\n",
       "      <th>1</th>\n",
       "      <td>15.0</td>\n",
       "      <td>30</td>\n",
       "      <td>20.0</td>\n",
       "    </tr>\n",
       "    <tr>\n",
       "      <th>2</th>\n",
       "      <td>20.0</td>\n",
       "      <td>25</td>\n",
       "      <td>15.0</td>\n",
       "    </tr>\n",
       "  </tbody>\n",
       "</table>\n",
       "</div>"
      ],
      "text/plain": [
       "   Ankara  Adana  Mersin\n",
       "0    20.0     25    20.0\n",
       "1    15.0     30    20.0\n",
       "2    20.0     25    15.0"
      ]
     },
     "execution_count": 20,
     "metadata": {},
     "output_type": "execute_result"
    }
   ],
   "source": [
    "dataFrame.fillna(20)"
   ]
  },
  {
   "cell_type": "markdown",
   "id": "3a260e73",
   "metadata": {},
   "source": [
    " ## Groupby"
   ]
  },
  {
   "cell_type": "code",
   "execution_count": 21,
   "id": "d0d7f114",
   "metadata": {},
   "outputs": [],
   "source": [
    "dersler={\"dersAdi\":[\"Fizik\",\"Kimya\",\"Matematik\",\"Biyoloji\",\"Tarih\",\"Coğrafya\"],\n",
    "        \"dersKodu\":[\"F012\",\"K458\",\"M469\",\"B478\",\"T158\",\"C963\"],\n",
    "         \"hocalar\":[\"Ahmet\",\"Mehmet\",\"Fatma\",\"Kerim\",\"Hamza\",\"Fatih\"],\n",
    "         \"alanlar\":[\"Sayısal\",\"Sayısal\",\"Sayısal\",\"Sayısal\",\"Sözel\",\"Sözel\"],\n",
    "         \"Maas\":[50.000,40.000,60.000,50.000,40.000,40.000]\n",
    "        \n",
    "        }"
   ]
  },
  {
   "cell_type": "code",
   "execution_count": 22,
   "id": "4e90d156",
   "metadata": {},
   "outputs": [
    {
     "data": {
      "text/plain": [
       "{'dersAdi': ['Fizik', 'Kimya', 'Matematik', 'Biyoloji', 'Tarih', 'Coğrafya'],\n",
       " 'dersKodu': ['F012', 'K458', 'M469', 'B478', 'T158', 'C963'],\n",
       " 'hocalar': ['Ahmet', 'Mehmet', 'Fatma', 'Kerim', 'Hamza', 'Fatih'],\n",
       " 'alanlar': ['Sayısal', 'Sayısal', 'Sayısal', 'Sayısal', 'Sözel', 'Sözel'],\n",
       " 'Maas': [50.0, 40.0, 60.0, 50.0, 40.0, 40.0]}"
      ]
     },
     "execution_count": 22,
     "metadata": {},
     "output_type": "execute_result"
    }
   ],
   "source": [
    "dersler"
   ]
  },
  {
   "cell_type": "code",
   "execution_count": 23,
   "id": "074fea66",
   "metadata": {},
   "outputs": [],
   "source": [
    "dersler_Dataframe=pd.DataFrame(dersler)"
   ]
  },
  {
   "cell_type": "code",
   "execution_count": 24,
   "id": "0da0fcfd",
   "metadata": {},
   "outputs": [
    {
     "data": {
      "text/html": [
       "<div>\n",
       "<style scoped>\n",
       "    .dataframe tbody tr th:only-of-type {\n",
       "        vertical-align: middle;\n",
       "    }\n",
       "\n",
       "    .dataframe tbody tr th {\n",
       "        vertical-align: top;\n",
       "    }\n",
       "\n",
       "    .dataframe thead th {\n",
       "        text-align: right;\n",
       "    }\n",
       "</style>\n",
       "<table border=\"1\" class=\"dataframe\">\n",
       "  <thead>\n",
       "    <tr style=\"text-align: right;\">\n",
       "      <th></th>\n",
       "      <th>dersAdi</th>\n",
       "      <th>dersKodu</th>\n",
       "      <th>hocalar</th>\n",
       "      <th>alanlar</th>\n",
       "      <th>Maas</th>\n",
       "    </tr>\n",
       "  </thead>\n",
       "  <tbody>\n",
       "    <tr>\n",
       "      <th>0</th>\n",
       "      <td>Fizik</td>\n",
       "      <td>F012</td>\n",
       "      <td>Ahmet</td>\n",
       "      <td>Sayısal</td>\n",
       "      <td>50.0</td>\n",
       "    </tr>\n",
       "    <tr>\n",
       "      <th>1</th>\n",
       "      <td>Kimya</td>\n",
       "      <td>K458</td>\n",
       "      <td>Mehmet</td>\n",
       "      <td>Sayısal</td>\n",
       "      <td>40.0</td>\n",
       "    </tr>\n",
       "    <tr>\n",
       "      <th>2</th>\n",
       "      <td>Matematik</td>\n",
       "      <td>M469</td>\n",
       "      <td>Fatma</td>\n",
       "      <td>Sayısal</td>\n",
       "      <td>60.0</td>\n",
       "    </tr>\n",
       "    <tr>\n",
       "      <th>3</th>\n",
       "      <td>Biyoloji</td>\n",
       "      <td>B478</td>\n",
       "      <td>Kerim</td>\n",
       "      <td>Sayısal</td>\n",
       "      <td>50.0</td>\n",
       "    </tr>\n",
       "    <tr>\n",
       "      <th>4</th>\n",
       "      <td>Tarih</td>\n",
       "      <td>T158</td>\n",
       "      <td>Hamza</td>\n",
       "      <td>Sözel</td>\n",
       "      <td>40.0</td>\n",
       "    </tr>\n",
       "    <tr>\n",
       "      <th>5</th>\n",
       "      <td>Coğrafya</td>\n",
       "      <td>C963</td>\n",
       "      <td>Fatih</td>\n",
       "      <td>Sözel</td>\n",
       "      <td>40.0</td>\n",
       "    </tr>\n",
       "  </tbody>\n",
       "</table>\n",
       "</div>"
      ],
      "text/plain": [
       "     dersAdi dersKodu hocalar  alanlar  Maas\n",
       "0      Fizik     F012   Ahmet  Sayısal  50.0\n",
       "1      Kimya     K458  Mehmet  Sayısal  40.0\n",
       "2  Matematik     M469   Fatma  Sayısal  60.0\n",
       "3   Biyoloji     B478   Kerim  Sayısal  50.0\n",
       "4      Tarih     T158   Hamza    Sözel  40.0\n",
       "5   Coğrafya     C963   Fatih    Sözel  40.0"
      ]
     },
     "execution_count": 24,
     "metadata": {},
     "output_type": "execute_result"
    }
   ],
   "source": [
    "dersler_Dataframe"
   ]
  },
  {
   "cell_type": "code",
   "execution_count": 25,
   "id": "102dd81d",
   "metadata": {},
   "outputs": [],
   "source": [
    "grupla=dersler_Dataframe.groupby(\"alanlar\")"
   ]
  },
  {
   "cell_type": "code",
   "execution_count": 26,
   "id": "5265213d",
   "metadata": {},
   "outputs": [
    {
     "data": {
      "text/html": [
       "<div>\n",
       "<style scoped>\n",
       "    .dataframe tbody tr th:only-of-type {\n",
       "        vertical-align: middle;\n",
       "    }\n",
       "\n",
       "    .dataframe tbody tr th {\n",
       "        vertical-align: top;\n",
       "    }\n",
       "\n",
       "    .dataframe thead th {\n",
       "        text-align: right;\n",
       "    }\n",
       "</style>\n",
       "<table border=\"1\" class=\"dataframe\">\n",
       "  <thead>\n",
       "    <tr style=\"text-align: right;\">\n",
       "      <th></th>\n",
       "      <th>dersAdi</th>\n",
       "      <th>dersKodu</th>\n",
       "      <th>hocalar</th>\n",
       "      <th>Maas</th>\n",
       "    </tr>\n",
       "    <tr>\n",
       "      <th>alanlar</th>\n",
       "      <th></th>\n",
       "      <th></th>\n",
       "      <th></th>\n",
       "      <th></th>\n",
       "    </tr>\n",
       "  </thead>\n",
       "  <tbody>\n",
       "    <tr>\n",
       "      <th>Sayısal</th>\n",
       "      <td>4</td>\n",
       "      <td>4</td>\n",
       "      <td>4</td>\n",
       "      <td>4</td>\n",
       "    </tr>\n",
       "    <tr>\n",
       "      <th>Sözel</th>\n",
       "      <td>2</td>\n",
       "      <td>2</td>\n",
       "      <td>2</td>\n",
       "      <td>2</td>\n",
       "    </tr>\n",
       "  </tbody>\n",
       "</table>\n",
       "</div>"
      ],
      "text/plain": [
       "         dersAdi  dersKodu  hocalar  Maas\n",
       "alanlar                                  \n",
       "Sayısal        4         4        4     4\n",
       "Sözel          2         2        2     2"
      ]
     },
     "execution_count": 26,
     "metadata": {},
     "output_type": "execute_result"
    }
   ],
   "source": [
    "grupla.count()"
   ]
  },
  {
   "cell_type": "code",
   "execution_count": 27,
   "id": "74d33fe0",
   "metadata": {},
   "outputs": [
    {
     "data": {
      "text/html": [
       "<div>\n",
       "<style scoped>\n",
       "    .dataframe tbody tr th:only-of-type {\n",
       "        vertical-align: middle;\n",
       "    }\n",
       "\n",
       "    .dataframe tbody tr th {\n",
       "        vertical-align: top;\n",
       "    }\n",
       "\n",
       "    .dataframe thead tr th {\n",
       "        text-align: left;\n",
       "    }\n",
       "\n",
       "    .dataframe thead tr:last-of-type th {\n",
       "        text-align: right;\n",
       "    }\n",
       "</style>\n",
       "<table border=\"1\" class=\"dataframe\">\n",
       "  <thead>\n",
       "    <tr>\n",
       "      <th></th>\n",
       "      <th colspan=\"8\" halign=\"left\">Maas</th>\n",
       "    </tr>\n",
       "    <tr>\n",
       "      <th></th>\n",
       "      <th>count</th>\n",
       "      <th>mean</th>\n",
       "      <th>std</th>\n",
       "      <th>min</th>\n",
       "      <th>25%</th>\n",
       "      <th>50%</th>\n",
       "      <th>75%</th>\n",
       "      <th>max</th>\n",
       "    </tr>\n",
       "    <tr>\n",
       "      <th>alanlar</th>\n",
       "      <th></th>\n",
       "      <th></th>\n",
       "      <th></th>\n",
       "      <th></th>\n",
       "      <th></th>\n",
       "      <th></th>\n",
       "      <th></th>\n",
       "      <th></th>\n",
       "    </tr>\n",
       "  </thead>\n",
       "  <tbody>\n",
       "    <tr>\n",
       "      <th>Sayısal</th>\n",
       "      <td>4.0</td>\n",
       "      <td>50.0</td>\n",
       "      <td>8.164966</td>\n",
       "      <td>40.0</td>\n",
       "      <td>47.5</td>\n",
       "      <td>50.0</td>\n",
       "      <td>52.5</td>\n",
       "      <td>60.0</td>\n",
       "    </tr>\n",
       "    <tr>\n",
       "      <th>Sözel</th>\n",
       "      <td>2.0</td>\n",
       "      <td>40.0</td>\n",
       "      <td>0.000000</td>\n",
       "      <td>40.0</td>\n",
       "      <td>40.0</td>\n",
       "      <td>40.0</td>\n",
       "      <td>40.0</td>\n",
       "      <td>40.0</td>\n",
       "    </tr>\n",
       "  </tbody>\n",
       "</table>\n",
       "</div>"
      ],
      "text/plain": [
       "         Maas                                              \n",
       "        count  mean       std   min   25%   50%   75%   max\n",
       "alanlar                                                    \n",
       "Sayısal   4.0  50.0  8.164966  40.0  47.5  50.0  52.5  60.0\n",
       "Sözel     2.0  40.0  0.000000  40.0  40.0  40.0  40.0  40.0"
      ]
     },
     "execution_count": 27,
     "metadata": {},
     "output_type": "execute_result"
    }
   ],
   "source": [
    "grupla.describe()"
   ]
  },
  {
   "cell_type": "code",
   "execution_count": 28,
   "id": "c19dc9f9",
   "metadata": {},
   "outputs": [
    {
     "data": {
      "text/html": [
       "<div>\n",
       "<style scoped>\n",
       "    .dataframe tbody tr th:only-of-type {\n",
       "        vertical-align: middle;\n",
       "    }\n",
       "\n",
       "    .dataframe tbody tr th {\n",
       "        vertical-align: top;\n",
       "    }\n",
       "\n",
       "    .dataframe thead th {\n",
       "        text-align: right;\n",
       "    }\n",
       "</style>\n",
       "<table border=\"1\" class=\"dataframe\">\n",
       "  <thead>\n",
       "    <tr style=\"text-align: right;\">\n",
       "      <th></th>\n",
       "      <th>dersAdi</th>\n",
       "      <th>dersKodu</th>\n",
       "      <th>hocalar</th>\n",
       "      <th>Maas</th>\n",
       "    </tr>\n",
       "    <tr>\n",
       "      <th>alanlar</th>\n",
       "      <th></th>\n",
       "      <th></th>\n",
       "      <th></th>\n",
       "      <th></th>\n",
       "    </tr>\n",
       "  </thead>\n",
       "  <tbody>\n",
       "    <tr>\n",
       "      <th>Sayısal</th>\n",
       "      <td>Matematik</td>\n",
       "      <td>M469</td>\n",
       "      <td>Mehmet</td>\n",
       "      <td>60.0</td>\n",
       "    </tr>\n",
       "    <tr>\n",
       "      <th>Sözel</th>\n",
       "      <td>Tarih</td>\n",
       "      <td>T158</td>\n",
       "      <td>Hamza</td>\n",
       "      <td>40.0</td>\n",
       "    </tr>\n",
       "  </tbody>\n",
       "</table>\n",
       "</div>"
      ],
      "text/plain": [
       "           dersAdi dersKodu hocalar  Maas\n",
       "alanlar                                  \n",
       "Sayısal  Matematik     M469  Mehmet  60.0\n",
       "Sözel        Tarih     T158   Hamza  40.0"
      ]
     },
     "execution_count": 28,
     "metadata": {},
     "output_type": "execute_result"
    }
   ],
   "source": [
    "grupla.max()"
   ]
  },
  {
   "cell_type": "code",
   "execution_count": 29,
   "id": "bd7de37a",
   "metadata": {},
   "outputs": [
    {
     "data": {
      "text/html": [
       "<div>\n",
       "<style scoped>\n",
       "    .dataframe tbody tr th:only-of-type {\n",
       "        vertical-align: middle;\n",
       "    }\n",
       "\n",
       "    .dataframe tbody tr th {\n",
       "        vertical-align: top;\n",
       "    }\n",
       "\n",
       "    .dataframe thead th {\n",
       "        text-align: right;\n",
       "    }\n",
       "</style>\n",
       "<table border=\"1\" class=\"dataframe\">\n",
       "  <thead>\n",
       "    <tr style=\"text-align: right;\">\n",
       "      <th></th>\n",
       "      <th>dersAdi</th>\n",
       "      <th>dersKodu</th>\n",
       "      <th>hocalar</th>\n",
       "      <th>Maas</th>\n",
       "    </tr>\n",
       "    <tr>\n",
       "      <th>alanlar</th>\n",
       "      <th></th>\n",
       "      <th></th>\n",
       "      <th></th>\n",
       "      <th></th>\n",
       "    </tr>\n",
       "  </thead>\n",
       "  <tbody>\n",
       "    <tr>\n",
       "      <th>Sayısal</th>\n",
       "      <td>Biyoloji</td>\n",
       "      <td>B478</td>\n",
       "      <td>Ahmet</td>\n",
       "      <td>40.0</td>\n",
       "    </tr>\n",
       "    <tr>\n",
       "      <th>Sözel</th>\n",
       "      <td>Coğrafya</td>\n",
       "      <td>C963</td>\n",
       "      <td>Fatih</td>\n",
       "      <td>40.0</td>\n",
       "    </tr>\n",
       "  </tbody>\n",
       "</table>\n",
       "</div>"
      ],
      "text/plain": [
       "          dersAdi dersKodu hocalar  Maas\n",
       "alanlar                                 \n",
       "Sayısal  Biyoloji     B478   Ahmet  40.0\n",
       "Sözel    Coğrafya     C963   Fatih  40.0"
      ]
     },
     "execution_count": 29,
     "metadata": {},
     "output_type": "execute_result"
    }
   ],
   "source": [
    "grupla.min()"
   ]
  },
  {
   "cell_type": "markdown",
   "id": "cfe97d8b",
   "metadata": {},
   "source": [
    "## Concatenation\n"
   ]
  },
  {
   "cell_type": "code",
   "execution_count": 45,
   "id": "31aa2c30",
   "metadata": {},
   "outputs": [],
   "source": [
    "sozluk1={\"İsimler\":[\"ALi\",\"Ahmet\",\"Fatma\"] , \"Yas\":[20,24,30]}\n",
    "sozluk2={\"İsimler\":[\"Afra\",\"Kerim\",\"Fatma\"] , \"Yas\":[25,20,33]}\n",
    "sozluk3={\"İsimler\":[\"Arif\",\"Meryem\",\"Kasım\"] , \"Yas\":[18,30,17]}"
   ]
  },
  {
   "cell_type": "code",
   "execution_count": 46,
   "id": "7aed2cc3",
   "metadata": {},
   "outputs": [],
   "source": [
    "dataFrame1=pd.DataFrame(sozluk1)\n",
    "dataFrame2=pd.DataFrame(sozluk2)\n",
    "dataFrame3=pd.DataFrame(sozluk3)"
   ]
  },
  {
   "cell_type": "code",
   "execution_count": 48,
   "id": "af530e0b",
   "metadata": {},
   "outputs": [],
   "source": [
    "birlesim=pd.concat([dataFrame1,dataFrame2,dataFrame3])"
   ]
  },
  {
   "cell_type": "code",
   "execution_count": 49,
   "id": "4fba0ad1",
   "metadata": {},
   "outputs": [
    {
     "data": {
      "text/html": [
       "<div>\n",
       "<style scoped>\n",
       "    .dataframe tbody tr th:only-of-type {\n",
       "        vertical-align: middle;\n",
       "    }\n",
       "\n",
       "    .dataframe tbody tr th {\n",
       "        vertical-align: top;\n",
       "    }\n",
       "\n",
       "    .dataframe thead th {\n",
       "        text-align: right;\n",
       "    }\n",
       "</style>\n",
       "<table border=\"1\" class=\"dataframe\">\n",
       "  <thead>\n",
       "    <tr style=\"text-align: right;\">\n",
       "      <th></th>\n",
       "      <th>İsimler</th>\n",
       "      <th>Yas</th>\n",
       "    </tr>\n",
       "  </thead>\n",
       "  <tbody>\n",
       "    <tr>\n",
       "      <th>0</th>\n",
       "      <td>ALi</td>\n",
       "      <td>20</td>\n",
       "    </tr>\n",
       "    <tr>\n",
       "      <th>1</th>\n",
       "      <td>Ahmet</td>\n",
       "      <td>24</td>\n",
       "    </tr>\n",
       "    <tr>\n",
       "      <th>2</th>\n",
       "      <td>Fatma</td>\n",
       "      <td>30</td>\n",
       "    </tr>\n",
       "    <tr>\n",
       "      <th>0</th>\n",
       "      <td>Afra</td>\n",
       "      <td>25</td>\n",
       "    </tr>\n",
       "    <tr>\n",
       "      <th>1</th>\n",
       "      <td>Kerim</td>\n",
       "      <td>20</td>\n",
       "    </tr>\n",
       "    <tr>\n",
       "      <th>2</th>\n",
       "      <td>Fatma</td>\n",
       "      <td>33</td>\n",
       "    </tr>\n",
       "    <tr>\n",
       "      <th>0</th>\n",
       "      <td>Arif</td>\n",
       "      <td>18</td>\n",
       "    </tr>\n",
       "    <tr>\n",
       "      <th>1</th>\n",
       "      <td>Meryem</td>\n",
       "      <td>30</td>\n",
       "    </tr>\n",
       "    <tr>\n",
       "      <th>2</th>\n",
       "      <td>Kasım</td>\n",
       "      <td>17</td>\n",
       "    </tr>\n",
       "  </tbody>\n",
       "</table>\n",
       "</div>"
      ],
      "text/plain": [
       "  İsimler  Yas\n",
       "0     ALi   20\n",
       "1   Ahmet   24\n",
       "2   Fatma   30\n",
       "0    Afra   25\n",
       "1   Kerim   20\n",
       "2   Fatma   33\n",
       "0    Arif   18\n",
       "1  Meryem   30\n",
       "2   Kasım   17"
      ]
     },
     "execution_count": 49,
     "metadata": {},
     "output_type": "execute_result"
    }
   ],
   "source": [
    "birlesim"
   ]
  },
  {
   "cell_type": "markdown",
   "id": "73538623",
   "metadata": {},
   "source": [
    "#####  ***Sütün sayısı ve adlar aynı olan 3 sözlük yazdık dataframe çevirdik şimdi birleştiricez"
   ]
  },
  {
   "cell_type": "code",
   "execution_count": 50,
   "id": "cd886c2c",
   "metadata": {},
   "outputs": [],
   "source": [
    "#pd.concat(dataFrame1,dataFrame2,dataFrame3)"
   ]
  },
  {
   "cell_type": "markdown",
   "id": "9697f756",
   "metadata": {},
   "source": [
    "## Merge"
   ]
  },
  {
   "cell_type": "markdown",
   "id": "3d5fa273",
   "metadata": {},
   "source": [
    "#### ***2 tablo bir ortak kolon "
   ]
  },
  {
   "cell_type": "code",
   "execution_count": 51,
   "id": "778f9728",
   "metadata": {},
   "outputs": [],
   "source": [
    "#pd.merge(dataframe1,dataframe2,on=\"x\"(ortak kolon ismi merge ile olur))"
   ]
  },
  {
   "cell_type": "markdown",
   "id": "a56bbdb3",
   "metadata": {},
   "source": [
    "###"
   ]
  },
  {
   "cell_type": "markdown",
   "id": "f43cf555",
   "metadata": {},
   "source": [
    "##### Onceki maas sözlük örneği gibi bir örnek üzerinden ileri uygulama"
   ]
  },
  {
   "cell_type": "code",
   "execution_count": 52,
   "id": "31a97c78",
   "metadata": {},
   "outputs": [],
   "source": [
    "#Dataframe çevir\n",
    "#dataFrame[\"x\"].unique()\n",
    "#dataFrame[\"x\"].nunique()\n",
    "#dataFrame[\"x\"].value_counts()\n",
    "#Fonksiyonları dataFramelere uygulayabiliriz.\n",
    "#dataFrame[\"x\"].apply(uygulanacakfonksiyonadi)\n",
    "#dataFrame.isnull()\n",
    "#karakter sözlüğü oluştur dataFrame çevir sonra;\n",
    "#dataFrame.pivot_table(values=x,index=[a,b],aggfunc=np.sum)"
   ]
  },
  {
   "cell_type": "markdown",
   "id": "7ea14efc",
   "metadata": {},
   "source": []
  }
 ],
 "metadata": {
  "kernelspec": {
   "display_name": "Python 3 (ipykernel)",
   "language": "python",
   "name": "python3"
  },
  "language_info": {
   "codemirror_mode": {
    "name": "ipython",
    "version": 3
   },
   "file_extension": ".py",
   "mimetype": "text/x-python",
   "name": "python",
   "nbconvert_exporter": "python",
   "pygments_lexer": "ipython3",
   "version": "3.11.5"
  }
 },
 "nbformat": 4,
 "nbformat_minor": 5
}
